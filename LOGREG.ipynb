{
 "cells": [
  {
   "cell_type": "markdown",
   "id": "db93ab1a",
   "metadata": {},
   "source": [
    "# Higher Education Students Performance Evaluation\n",
    "The data was collected from the Faculty of Engineering and Faculty of Educational Sciences students in 2019. The purpose is to predict students' end-of-term performances using ML techniques.\n",
    "\n",
    "Goals:\n",
    "1. Which feature most impact a student's end-of-term performance\n",
    "2. Which feature least impact a student's end-of-term performance\n",
    "3. What impact does having a spouse have on one's end-of-term performance\n",
    "4. Does artistic or sports activity impact end-of-term performance\n",
    "\n",
    "Grade (0: Fail, 1: DD, 2: DC, 3: CC, 4: CB, 5: BB, 6: BA, 7: AA)"
   ]
  },
  {
   "cell_type": "markdown",
   "id": "16d85404",
   "metadata": {},
   "source": [
    "Source: https://archive.ics.uci.edu/dataset/856/higher+education+students+performance+evaluation"
   ]
  },
  {
   "cell_type": "code",
   "execution_count": 85,
   "id": "b39c8381",
   "metadata": {},
   "outputs": [],
   "source": [
    "# Import dependencies\n",
    "import re\n",
    "import plotly.express as px\n",
    "import numpy as np\n",
    "import pandas as pd\n",
    "import matplotlib.pyplot as plt\n",
    "import seaborn as sns\n",
    "%matplotlib inline\n",
    "from sklearn.model_selection import train_test_split"
   ]
  },
  {
   "cell_type": "code",
   "execution_count": 86,
   "id": "b1dcfb78",
   "metadata": {
    "scrolled": true
   },
   "outputs": [
    {
     "data": {
      "text/html": [
       "<div>\n",
       "<style scoped>\n",
       "    .dataframe tbody tr th:only-of-type {\n",
       "        vertical-align: middle;\n",
       "    }\n",
       "\n",
       "    .dataframe tbody tr th {\n",
       "        vertical-align: top;\n",
       "    }\n",
       "\n",
       "    .dataframe thead th {\n",
       "        text-align: right;\n",
       "    }\n",
       "</style>\n",
       "<table border=\"1\" class=\"dataframe\">\n",
       "  <thead>\n",
       "    <tr style=\"text-align: right;\">\n",
       "      <th></th>\n",
       "      <th>STUDENT ID</th>\n",
       "      <th>1</th>\n",
       "      <th>2</th>\n",
       "      <th>3</th>\n",
       "      <th>4</th>\n",
       "      <th>5</th>\n",
       "      <th>6</th>\n",
       "      <th>7</th>\n",
       "      <th>8</th>\n",
       "      <th>9</th>\n",
       "      <th>...</th>\n",
       "      <th>23</th>\n",
       "      <th>24</th>\n",
       "      <th>25</th>\n",
       "      <th>26</th>\n",
       "      <th>27</th>\n",
       "      <th>28</th>\n",
       "      <th>29</th>\n",
       "      <th>30</th>\n",
       "      <th>COURSE ID</th>\n",
       "      <th>GRADE</th>\n",
       "    </tr>\n",
       "  </thead>\n",
       "  <tbody>\n",
       "    <tr>\n",
       "      <th>0</th>\n",
       "      <td>STUDENT1</td>\n",
       "      <td>2</td>\n",
       "      <td>2</td>\n",
       "      <td>3</td>\n",
       "      <td>3</td>\n",
       "      <td>1</td>\n",
       "      <td>2</td>\n",
       "      <td>2</td>\n",
       "      <td>1</td>\n",
       "      <td>1</td>\n",
       "      <td>...</td>\n",
       "      <td>1</td>\n",
       "      <td>1</td>\n",
       "      <td>3</td>\n",
       "      <td>2</td>\n",
       "      <td>1</td>\n",
       "      <td>2</td>\n",
       "      <td>1</td>\n",
       "      <td>1</td>\n",
       "      <td>1</td>\n",
       "      <td>1</td>\n",
       "    </tr>\n",
       "    <tr>\n",
       "      <th>1</th>\n",
       "      <td>STUDENT2</td>\n",
       "      <td>2</td>\n",
       "      <td>2</td>\n",
       "      <td>3</td>\n",
       "      <td>3</td>\n",
       "      <td>1</td>\n",
       "      <td>2</td>\n",
       "      <td>2</td>\n",
       "      <td>1</td>\n",
       "      <td>1</td>\n",
       "      <td>...</td>\n",
       "      <td>1</td>\n",
       "      <td>1</td>\n",
       "      <td>3</td>\n",
       "      <td>2</td>\n",
       "      <td>3</td>\n",
       "      <td>2</td>\n",
       "      <td>2</td>\n",
       "      <td>3</td>\n",
       "      <td>1</td>\n",
       "      <td>1</td>\n",
       "    </tr>\n",
       "    <tr>\n",
       "      <th>2</th>\n",
       "      <td>STUDENT3</td>\n",
       "      <td>2</td>\n",
       "      <td>2</td>\n",
       "      <td>2</td>\n",
       "      <td>3</td>\n",
       "      <td>2</td>\n",
       "      <td>2</td>\n",
       "      <td>2</td>\n",
       "      <td>2</td>\n",
       "      <td>4</td>\n",
       "      <td>...</td>\n",
       "      <td>1</td>\n",
       "      <td>1</td>\n",
       "      <td>2</td>\n",
       "      <td>2</td>\n",
       "      <td>1</td>\n",
       "      <td>1</td>\n",
       "      <td>2</td>\n",
       "      <td>2</td>\n",
       "      <td>1</td>\n",
       "      <td>1</td>\n",
       "    </tr>\n",
       "    <tr>\n",
       "      <th>3</th>\n",
       "      <td>STUDENT4</td>\n",
       "      <td>1</td>\n",
       "      <td>1</td>\n",
       "      <td>1</td>\n",
       "      <td>3</td>\n",
       "      <td>1</td>\n",
       "      <td>2</td>\n",
       "      <td>1</td>\n",
       "      <td>2</td>\n",
       "      <td>1</td>\n",
       "      <td>...</td>\n",
       "      <td>1</td>\n",
       "      <td>2</td>\n",
       "      <td>3</td>\n",
       "      <td>2</td>\n",
       "      <td>2</td>\n",
       "      <td>1</td>\n",
       "      <td>3</td>\n",
       "      <td>2</td>\n",
       "      <td>1</td>\n",
       "      <td>1</td>\n",
       "    </tr>\n",
       "    <tr>\n",
       "      <th>4</th>\n",
       "      <td>STUDENT5</td>\n",
       "      <td>2</td>\n",
       "      <td>2</td>\n",
       "      <td>1</td>\n",
       "      <td>3</td>\n",
       "      <td>2</td>\n",
       "      <td>2</td>\n",
       "      <td>1</td>\n",
       "      <td>3</td>\n",
       "      <td>1</td>\n",
       "      <td>...</td>\n",
       "      <td>2</td>\n",
       "      <td>1</td>\n",
       "      <td>2</td>\n",
       "      <td>2</td>\n",
       "      <td>2</td>\n",
       "      <td>1</td>\n",
       "      <td>2</td>\n",
       "      <td>2</td>\n",
       "      <td>1</td>\n",
       "      <td>1</td>\n",
       "    </tr>\n",
       "    <tr>\n",
       "      <th>...</th>\n",
       "      <td>...</td>\n",
       "      <td>...</td>\n",
       "      <td>...</td>\n",
       "      <td>...</td>\n",
       "      <td>...</td>\n",
       "      <td>...</td>\n",
       "      <td>...</td>\n",
       "      <td>...</td>\n",
       "      <td>...</td>\n",
       "      <td>...</td>\n",
       "      <td>...</td>\n",
       "      <td>...</td>\n",
       "      <td>...</td>\n",
       "      <td>...</td>\n",
       "      <td>...</td>\n",
       "      <td>...</td>\n",
       "      <td>...</td>\n",
       "      <td>...</td>\n",
       "      <td>...</td>\n",
       "      <td>...</td>\n",
       "      <td>...</td>\n",
       "    </tr>\n",
       "    <tr>\n",
       "      <th>140</th>\n",
       "      <td>STUDENT141</td>\n",
       "      <td>2</td>\n",
       "      <td>1</td>\n",
       "      <td>2</td>\n",
       "      <td>3</td>\n",
       "      <td>1</td>\n",
       "      <td>1</td>\n",
       "      <td>2</td>\n",
       "      <td>1</td>\n",
       "      <td>1</td>\n",
       "      <td>...</td>\n",
       "      <td>1</td>\n",
       "      <td>1</td>\n",
       "      <td>2</td>\n",
       "      <td>1</td>\n",
       "      <td>2</td>\n",
       "      <td>1</td>\n",
       "      <td>3</td>\n",
       "      <td>3</td>\n",
       "      <td>9</td>\n",
       "      <td>5</td>\n",
       "    </tr>\n",
       "    <tr>\n",
       "      <th>141</th>\n",
       "      <td>STUDENT142</td>\n",
       "      <td>1</td>\n",
       "      <td>1</td>\n",
       "      <td>2</td>\n",
       "      <td>4</td>\n",
       "      <td>2</td>\n",
       "      <td>2</td>\n",
       "      <td>2</td>\n",
       "      <td>1</td>\n",
       "      <td>4</td>\n",
       "      <td>...</td>\n",
       "      <td>1</td>\n",
       "      <td>1</td>\n",
       "      <td>3</td>\n",
       "      <td>2</td>\n",
       "      <td>2</td>\n",
       "      <td>1</td>\n",
       "      <td>5</td>\n",
       "      <td>3</td>\n",
       "      <td>9</td>\n",
       "      <td>5</td>\n",
       "    </tr>\n",
       "    <tr>\n",
       "      <th>142</th>\n",
       "      <td>STUDENT143</td>\n",
       "      <td>1</td>\n",
       "      <td>1</td>\n",
       "      <td>1</td>\n",
       "      <td>4</td>\n",
       "      <td>2</td>\n",
       "      <td>2</td>\n",
       "      <td>2</td>\n",
       "      <td>1</td>\n",
       "      <td>1</td>\n",
       "      <td>...</td>\n",
       "      <td>1</td>\n",
       "      <td>1</td>\n",
       "      <td>3</td>\n",
       "      <td>3</td>\n",
       "      <td>2</td>\n",
       "      <td>1</td>\n",
       "      <td>4</td>\n",
       "      <td>3</td>\n",
       "      <td>9</td>\n",
       "      <td>1</td>\n",
       "    </tr>\n",
       "    <tr>\n",
       "      <th>143</th>\n",
       "      <td>STUDENT144</td>\n",
       "      <td>2</td>\n",
       "      <td>1</td>\n",
       "      <td>2</td>\n",
       "      <td>4</td>\n",
       "      <td>1</td>\n",
       "      <td>1</td>\n",
       "      <td>1</td>\n",
       "      <td>5</td>\n",
       "      <td>2</td>\n",
       "      <td>...</td>\n",
       "      <td>2</td>\n",
       "      <td>1</td>\n",
       "      <td>2</td>\n",
       "      <td>1</td>\n",
       "      <td>2</td>\n",
       "      <td>1</td>\n",
       "      <td>5</td>\n",
       "      <td>3</td>\n",
       "      <td>9</td>\n",
       "      <td>4</td>\n",
       "    </tr>\n",
       "    <tr>\n",
       "      <th>144</th>\n",
       "      <td>STUDENT145</td>\n",
       "      <td>1</td>\n",
       "      <td>1</td>\n",
       "      <td>1</td>\n",
       "      <td>5</td>\n",
       "      <td>2</td>\n",
       "      <td>2</td>\n",
       "      <td>2</td>\n",
       "      <td>3</td>\n",
       "      <td>1</td>\n",
       "      <td>...</td>\n",
       "      <td>2</td>\n",
       "      <td>1</td>\n",
       "      <td>3</td>\n",
       "      <td>2</td>\n",
       "      <td>3</td>\n",
       "      <td>1</td>\n",
       "      <td>5</td>\n",
       "      <td>4</td>\n",
       "      <td>9</td>\n",
       "      <td>3</td>\n",
       "    </tr>\n",
       "  </tbody>\n",
       "</table>\n",
       "<p>145 rows × 33 columns</p>\n",
       "</div>"
      ],
      "text/plain": [
       "     STUDENT ID  1  2  3  4  5  6  7  8  9  ...  23  24  25  26  27  28  29  \\\n",
       "0      STUDENT1  2  2  3  3  1  2  2  1  1  ...   1   1   3   2   1   2   1   \n",
       "1      STUDENT2  2  2  3  3  1  2  2  1  1  ...   1   1   3   2   3   2   2   \n",
       "2      STUDENT3  2  2  2  3  2  2  2  2  4  ...   1   1   2   2   1   1   2   \n",
       "3      STUDENT4  1  1  1  3  1  2  1  2  1  ...   1   2   3   2   2   1   3   \n",
       "4      STUDENT5  2  2  1  3  2  2  1  3  1  ...   2   1   2   2   2   1   2   \n",
       "..          ... .. .. .. .. .. .. .. .. ..  ...  ..  ..  ..  ..  ..  ..  ..   \n",
       "140  STUDENT141  2  1  2  3  1  1  2  1  1  ...   1   1   2   1   2   1   3   \n",
       "141  STUDENT142  1  1  2  4  2  2  2  1  4  ...   1   1   3   2   2   1   5   \n",
       "142  STUDENT143  1  1  1  4  2  2  2  1  1  ...   1   1   3   3   2   1   4   \n",
       "143  STUDENT144  2  1  2  4  1  1  1  5  2  ...   2   1   2   1   2   1   5   \n",
       "144  STUDENT145  1  1  1  5  2  2  2  3  1  ...   2   1   3   2   3   1   5   \n",
       "\n",
       "     30  COURSE ID  GRADE  \n",
       "0     1          1      1  \n",
       "1     3          1      1  \n",
       "2     2          1      1  \n",
       "3     2          1      1  \n",
       "4     2          1      1  \n",
       "..   ..        ...    ...  \n",
       "140   3          9      5  \n",
       "141   3          9      5  \n",
       "142   3          9      1  \n",
       "143   3          9      4  \n",
       "144   4          9      3  \n",
       "\n",
       "[145 rows x 33 columns]"
      ]
     },
     "execution_count": 86,
     "metadata": {},
     "output_type": "execute_result"
    }
   ],
   "source": [
    "df = pd.read_csv('stdperf.csv')\n",
    "df"
   ]
  },
  {
   "cell_type": "code",
   "execution_count": 87,
   "id": "675f3a66",
   "metadata": {},
   "outputs": [
    {
     "data": {
      "text/html": [
       "<div>\n",
       "<style scoped>\n",
       "    .dataframe tbody tr th:only-of-type {\n",
       "        vertical-align: middle;\n",
       "    }\n",
       "\n",
       "    .dataframe tbody tr th {\n",
       "        vertical-align: top;\n",
       "    }\n",
       "\n",
       "    .dataframe thead th {\n",
       "        text-align: right;\n",
       "    }\n",
       "</style>\n",
       "<table border=\"1\" class=\"dataframe\">\n",
       "  <thead>\n",
       "    <tr style=\"text-align: right;\">\n",
       "      <th></th>\n",
       "      <th>STUDENT ID</th>\n",
       "      <th>stdAge</th>\n",
       "      <th>Sex</th>\n",
       "      <th>GradHigh</th>\n",
       "      <th>Schip</th>\n",
       "      <th>AddW</th>\n",
       "      <th>ArtSprt</th>\n",
       "      <th>Partner</th>\n",
       "      <th>TotSal</th>\n",
       "      <th>Transp</th>\n",
       "      <th>...</th>\n",
       "      <th>PrepMid1</th>\n",
       "      <th>PrepMid2</th>\n",
       "      <th>TakeNote</th>\n",
       "      <th>Listn</th>\n",
       "      <th>Discn</th>\n",
       "      <th>FlipCl</th>\n",
       "      <th>CumGPA</th>\n",
       "      <th>ExpGPA</th>\n",
       "      <th>CID</th>\n",
       "      <th>GRADE</th>\n",
       "    </tr>\n",
       "  </thead>\n",
       "  <tbody>\n",
       "    <tr>\n",
       "      <th>0</th>\n",
       "      <td>STUDENT1</td>\n",
       "      <td>2</td>\n",
       "      <td>2</td>\n",
       "      <td>3</td>\n",
       "      <td>3</td>\n",
       "      <td>1</td>\n",
       "      <td>2</td>\n",
       "      <td>2</td>\n",
       "      <td>1</td>\n",
       "      <td>1</td>\n",
       "      <td>...</td>\n",
       "      <td>1</td>\n",
       "      <td>1</td>\n",
       "      <td>3</td>\n",
       "      <td>2</td>\n",
       "      <td>1</td>\n",
       "      <td>2</td>\n",
       "      <td>1</td>\n",
       "      <td>1</td>\n",
       "      <td>1</td>\n",
       "      <td>1</td>\n",
       "    </tr>\n",
       "    <tr>\n",
       "      <th>1</th>\n",
       "      <td>STUDENT2</td>\n",
       "      <td>2</td>\n",
       "      <td>2</td>\n",
       "      <td>3</td>\n",
       "      <td>3</td>\n",
       "      <td>1</td>\n",
       "      <td>2</td>\n",
       "      <td>2</td>\n",
       "      <td>1</td>\n",
       "      <td>1</td>\n",
       "      <td>...</td>\n",
       "      <td>1</td>\n",
       "      <td>1</td>\n",
       "      <td>3</td>\n",
       "      <td>2</td>\n",
       "      <td>3</td>\n",
       "      <td>2</td>\n",
       "      <td>2</td>\n",
       "      <td>3</td>\n",
       "      <td>1</td>\n",
       "      <td>1</td>\n",
       "    </tr>\n",
       "    <tr>\n",
       "      <th>2</th>\n",
       "      <td>STUDENT3</td>\n",
       "      <td>2</td>\n",
       "      <td>2</td>\n",
       "      <td>2</td>\n",
       "      <td>3</td>\n",
       "      <td>2</td>\n",
       "      <td>2</td>\n",
       "      <td>2</td>\n",
       "      <td>2</td>\n",
       "      <td>4</td>\n",
       "      <td>...</td>\n",
       "      <td>1</td>\n",
       "      <td>1</td>\n",
       "      <td>2</td>\n",
       "      <td>2</td>\n",
       "      <td>1</td>\n",
       "      <td>1</td>\n",
       "      <td>2</td>\n",
       "      <td>2</td>\n",
       "      <td>1</td>\n",
       "      <td>1</td>\n",
       "    </tr>\n",
       "    <tr>\n",
       "      <th>3</th>\n",
       "      <td>STUDENT4</td>\n",
       "      <td>1</td>\n",
       "      <td>1</td>\n",
       "      <td>1</td>\n",
       "      <td>3</td>\n",
       "      <td>1</td>\n",
       "      <td>2</td>\n",
       "      <td>1</td>\n",
       "      <td>2</td>\n",
       "      <td>1</td>\n",
       "      <td>...</td>\n",
       "      <td>1</td>\n",
       "      <td>2</td>\n",
       "      <td>3</td>\n",
       "      <td>2</td>\n",
       "      <td>2</td>\n",
       "      <td>1</td>\n",
       "      <td>3</td>\n",
       "      <td>2</td>\n",
       "      <td>1</td>\n",
       "      <td>1</td>\n",
       "    </tr>\n",
       "    <tr>\n",
       "      <th>4</th>\n",
       "      <td>STUDENT5</td>\n",
       "      <td>2</td>\n",
       "      <td>2</td>\n",
       "      <td>1</td>\n",
       "      <td>3</td>\n",
       "      <td>2</td>\n",
       "      <td>2</td>\n",
       "      <td>1</td>\n",
       "      <td>3</td>\n",
       "      <td>1</td>\n",
       "      <td>...</td>\n",
       "      <td>2</td>\n",
       "      <td>1</td>\n",
       "      <td>2</td>\n",
       "      <td>2</td>\n",
       "      <td>2</td>\n",
       "      <td>1</td>\n",
       "      <td>2</td>\n",
       "      <td>2</td>\n",
       "      <td>1</td>\n",
       "      <td>1</td>\n",
       "    </tr>\n",
       "  </tbody>\n",
       "</table>\n",
       "<p>5 rows × 33 columns</p>\n",
       "</div>"
      ],
      "text/plain": [
       "  STUDENT ID  stdAge  Sex  GradHigh  Schip  AddW  ArtSprt  Partner  TotSal  \\\n",
       "0   STUDENT1       2    2         3      3     1        2        2       1   \n",
       "1   STUDENT2       2    2         3      3     1        2        2       1   \n",
       "2   STUDENT3       2    2         2      3     2        2        2       2   \n",
       "3   STUDENT4       1    1         1      3     1        2        1       2   \n",
       "4   STUDENT5       2    2         1      3     2        2        1       3   \n",
       "\n",
       "   Transp  ...  PrepMid1  PrepMid2  TakeNote  Listn  Discn  FlipCl  CumGPA  \\\n",
       "0       1  ...         1         1         3      2      1       2       1   \n",
       "1       1  ...         1         1         3      2      3       2       2   \n",
       "2       4  ...         1         1         2      2      1       1       2   \n",
       "3       1  ...         1         2         3      2      2       1       3   \n",
       "4       1  ...         2         1         2      2      2       1       2   \n",
       "\n",
       "   ExpGPA  CID  GRADE  \n",
       "0       1    1      1  \n",
       "1       3    1      1  \n",
       "2       2    1      1  \n",
       "3       2    1      1  \n",
       "4       2    1      1  \n",
       "\n",
       "[5 rows x 33 columns]"
      ]
     },
     "execution_count": 87,
     "metadata": {},
     "output_type": "execute_result"
    }
   ],
   "source": [
    "# Replace column names with descriptive names\n",
    "\n",
    "df_new = df.rename(columns={'1':'stdAge', '2':'Sex', '3':'GradHigh', '4':'Schip', '5':'AddW',\n",
    "                  '6':'ArtSprt', '7':'Partner', '8':'TotSal', '9':'Transp', '10':'Acc',\n",
    "                   '11':'MotherEd', '12':'FatherEd', '13':'Sib', '14':'ParStat',\n",
    "                   '15':'MotherOcc', '16':'FatherOcc', '17':'WeekStd', '18':'ReadFreqN',\n",
    "                   '19':'ReadFreqS', '20':'AttdConf', '21':'ProjImp', '22':'AttdCls',\n",
    "                   '23':'PrepMid1', '24':'PrepMid2', '25':'TakeNote', '26':'Listn',\n",
    "                   '27':'Discn', '28':'FlipCl', '29':'CumGPA', '30':'ExpGPA',\n",
    "                   'COURSE ID':'CID'\n",
    "                  \n",
    "                  })\n",
    "\n",
    "df_new.head()"
   ]
  },
  {
   "cell_type": "code",
   "execution_count": 88,
   "id": "6b9c3f6b",
   "metadata": {},
   "outputs": [],
   "source": [
    "df_new.drop(columns='CID', inplace=True)"
   ]
  },
  {
   "cell_type": "code",
   "execution_count": 89,
   "id": "f3ae80e0",
   "metadata": {
    "scrolled": true
   },
   "outputs": [
    {
     "name": "stdout",
     "output_type": "stream",
     "text": [
      "<class 'pandas.core.frame.DataFrame'>\n",
      "RangeIndex: 145 entries, 0 to 144\n",
      "Data columns (total 32 columns):\n",
      " #   Column      Non-Null Count  Dtype \n",
      "---  ------      --------------  ----- \n",
      " 0   STUDENT ID  145 non-null    object\n",
      " 1   stdAge      145 non-null    int64 \n",
      " 2   Sex         145 non-null    int64 \n",
      " 3   GradHigh    145 non-null    int64 \n",
      " 4   Schip       145 non-null    int64 \n",
      " 5   AddW        145 non-null    int64 \n",
      " 6   ArtSprt     145 non-null    int64 \n",
      " 7   Partner     145 non-null    int64 \n",
      " 8   TotSal      145 non-null    int64 \n",
      " 9   Transp      145 non-null    int64 \n",
      " 10  Acc         145 non-null    int64 \n",
      " 11  MotherEd    145 non-null    int64 \n",
      " 12  FatherEd    145 non-null    int64 \n",
      " 13  Sib         145 non-null    int64 \n",
      " 14  ParStat     145 non-null    int64 \n",
      " 15  MotherOcc   145 non-null    int64 \n",
      " 16  FatherOcc   145 non-null    int64 \n",
      " 17  WeekStd     145 non-null    int64 \n",
      " 18  ReadFreqN   145 non-null    int64 \n",
      " 19  ReadFreqS   145 non-null    int64 \n",
      " 20  AttdConf    145 non-null    int64 \n",
      " 21  ProjImp     145 non-null    int64 \n",
      " 22  AttdCls     145 non-null    int64 \n",
      " 23  PrepMid1    145 non-null    int64 \n",
      " 24  PrepMid2    145 non-null    int64 \n",
      " 25  TakeNote    145 non-null    int64 \n",
      " 26  Listn       145 non-null    int64 \n",
      " 27  Discn       145 non-null    int64 \n",
      " 28  FlipCl      145 non-null    int64 \n",
      " 29  CumGPA      145 non-null    int64 \n",
      " 30  ExpGPA      145 non-null    int64 \n",
      " 31  GRADE       145 non-null    int64 \n",
      "dtypes: int64(31), object(1)\n",
      "memory usage: 36.4+ KB\n"
     ]
    }
   ],
   "source": [
    "# All the values are categorical even though they are numeric\n",
    "df_new.info() # Check general info\n"
   ]
  },
  {
   "cell_type": "code",
   "execution_count": 90,
   "id": "6771b75e",
   "metadata": {},
   "outputs": [],
   "source": [
    "df_new.drop(columns='STUDENT ID', inplace=True)"
   ]
  },
  {
   "cell_type": "code",
   "execution_count": 91,
   "id": "66ac3b46",
   "metadata": {},
   "outputs": [
    {
     "data": {
      "text/plain": [
       "array([1, 2, 5, 0, 3, 4, 7, 6])"
      ]
     },
     "execution_count": 91,
     "metadata": {},
     "output_type": "execute_result"
    }
   ],
   "source": [
    "df_new['GRADE'].unique()"
   ]
  },
  {
   "cell_type": "markdown",
   "id": "bcda171f",
   "metadata": {},
   "source": [
    "This dataset contains 145 rows and 33 columns. It contains all numeric values and has no missing values"
   ]
  },
  {
   "cell_type": "markdown",
   "id": "30c3d9d3",
   "metadata": {},
   "source": [
    "# Exploratory Data Analysis and Visualization"
   ]
  },
  {
   "cell_type": "code",
   "execution_count": 92,
   "id": "e5ee56b0",
   "metadata": {},
   "outputs": [],
   "source": [
    "sns.set_style('darkgrid')\n",
    "plt.rcParams['font.size'] = 14\n",
    "plt.rcParams['figure.figsize'] = (10, 6)\n",
    "plt.rcParams['figure.facecolor'] = '#00000000'"
   ]
  },
  {
   "cell_type": "code",
   "execution_count": 93,
   "id": "b417cdfc",
   "metadata": {
    "scrolled": true
   },
   "outputs": [
    {
     "data": {
      "application/vnd.plotly.v1+json": {
       "config": {
        "plotlyServerURL": "https://plot.ly"
       },
       "data": [
        {
         "alignmentgroup": "True",
         "bingroup": "x",
         "hovertemplate": "GRADE=%{x}<br>count=%{y}<extra></extra>",
         "legendgroup": "",
         "marker": {
          "color": "#636efa",
          "pattern": {
           "shape": ""
          }
         },
         "name": "",
         "nbinsx": 8,
         "offsetgroup": "",
         "orientation": "v",
         "showlegend": false,
         "type": "histogram",
         "x": [
          1,
          1,
          1,
          1,
          1,
          2,
          5,
          2,
          5,
          0,
          2,
          0,
          0,
          1,
          2,
          2,
          1,
          2,
          2,
          3,
          1,
          1,
          3,
          1,
          2,
          3,
          1,
          1,
          3,
          5,
          5,
          3,
          1,
          2,
          2,
          1,
          2,
          1,
          2,
          1,
          1,
          1,
          1,
          4,
          1,
          3,
          5,
          3,
          1,
          2,
          1,
          4,
          1,
          5,
          3,
          3,
          5,
          4,
          3,
          5,
          2,
          5,
          3,
          5,
          3,
          2,
          5,
          1,
          5,
          5,
          7,
          6,
          6,
          6,
          7,
          7,
          4,
          7,
          4,
          3,
          4,
          3,
          7,
          7,
          7,
          4,
          5,
          6,
          6,
          6,
          6,
          6,
          7,
          4,
          6,
          5,
          7,
          6,
          7,
          7,
          6,
          7,
          7,
          7,
          3,
          7,
          7,
          6,
          6,
          7,
          2,
          2,
          2,
          1,
          2,
          1,
          1,
          1,
          1,
          2,
          1,
          0,
          2,
          1,
          3,
          2,
          3,
          1,
          0,
          3,
          1,
          4,
          3,
          3,
          1,
          2,
          0,
          2,
          0,
          0,
          5,
          5,
          1,
          4,
          3
         ],
         "xaxis": "x",
         "yaxis": "y"
        }
       ],
       "layout": {
        "barmode": "relative",
        "legend": {
         "tracegroupgap": 0
        },
        "template": {
         "data": {
          "bar": [
           {
            "error_x": {
             "color": "#2a3f5f"
            },
            "error_y": {
             "color": "#2a3f5f"
            },
            "marker": {
             "line": {
              "color": "#E5ECF6",
              "width": 0.5
             },
             "pattern": {
              "fillmode": "overlay",
              "size": 10,
              "solidity": 0.2
             }
            },
            "type": "bar"
           }
          ],
          "barpolar": [
           {
            "marker": {
             "line": {
              "color": "#E5ECF6",
              "width": 0.5
             },
             "pattern": {
              "fillmode": "overlay",
              "size": 10,
              "solidity": 0.2
             }
            },
            "type": "barpolar"
           }
          ],
          "carpet": [
           {
            "aaxis": {
             "endlinecolor": "#2a3f5f",
             "gridcolor": "white",
             "linecolor": "white",
             "minorgridcolor": "white",
             "startlinecolor": "#2a3f5f"
            },
            "baxis": {
             "endlinecolor": "#2a3f5f",
             "gridcolor": "white",
             "linecolor": "white",
             "minorgridcolor": "white",
             "startlinecolor": "#2a3f5f"
            },
            "type": "carpet"
           }
          ],
          "choropleth": [
           {
            "colorbar": {
             "outlinewidth": 0,
             "ticks": ""
            },
            "type": "choropleth"
           }
          ],
          "contour": [
           {
            "colorbar": {
             "outlinewidth": 0,
             "ticks": ""
            },
            "colorscale": [
             [
              0,
              "#0d0887"
             ],
             [
              0.1111111111111111,
              "#46039f"
             ],
             [
              0.2222222222222222,
              "#7201a8"
             ],
             [
              0.3333333333333333,
              "#9c179e"
             ],
             [
              0.4444444444444444,
              "#bd3786"
             ],
             [
              0.5555555555555556,
              "#d8576b"
             ],
             [
              0.6666666666666666,
              "#ed7953"
             ],
             [
              0.7777777777777778,
              "#fb9f3a"
             ],
             [
              0.8888888888888888,
              "#fdca26"
             ],
             [
              1,
              "#f0f921"
             ]
            ],
            "type": "contour"
           }
          ],
          "contourcarpet": [
           {
            "colorbar": {
             "outlinewidth": 0,
             "ticks": ""
            },
            "type": "contourcarpet"
           }
          ],
          "heatmap": [
           {
            "colorbar": {
             "outlinewidth": 0,
             "ticks": ""
            },
            "colorscale": [
             [
              0,
              "#0d0887"
             ],
             [
              0.1111111111111111,
              "#46039f"
             ],
             [
              0.2222222222222222,
              "#7201a8"
             ],
             [
              0.3333333333333333,
              "#9c179e"
             ],
             [
              0.4444444444444444,
              "#bd3786"
             ],
             [
              0.5555555555555556,
              "#d8576b"
             ],
             [
              0.6666666666666666,
              "#ed7953"
             ],
             [
              0.7777777777777778,
              "#fb9f3a"
             ],
             [
              0.8888888888888888,
              "#fdca26"
             ],
             [
              1,
              "#f0f921"
             ]
            ],
            "type": "heatmap"
           }
          ],
          "heatmapgl": [
           {
            "colorbar": {
             "outlinewidth": 0,
             "ticks": ""
            },
            "colorscale": [
             [
              0,
              "#0d0887"
             ],
             [
              0.1111111111111111,
              "#46039f"
             ],
             [
              0.2222222222222222,
              "#7201a8"
             ],
             [
              0.3333333333333333,
              "#9c179e"
             ],
             [
              0.4444444444444444,
              "#bd3786"
             ],
             [
              0.5555555555555556,
              "#d8576b"
             ],
             [
              0.6666666666666666,
              "#ed7953"
             ],
             [
              0.7777777777777778,
              "#fb9f3a"
             ],
             [
              0.8888888888888888,
              "#fdca26"
             ],
             [
              1,
              "#f0f921"
             ]
            ],
            "type": "heatmapgl"
           }
          ],
          "histogram": [
           {
            "marker": {
             "pattern": {
              "fillmode": "overlay",
              "size": 10,
              "solidity": 0.2
             }
            },
            "type": "histogram"
           }
          ],
          "histogram2d": [
           {
            "colorbar": {
             "outlinewidth": 0,
             "ticks": ""
            },
            "colorscale": [
             [
              0,
              "#0d0887"
             ],
             [
              0.1111111111111111,
              "#46039f"
             ],
             [
              0.2222222222222222,
              "#7201a8"
             ],
             [
              0.3333333333333333,
              "#9c179e"
             ],
             [
              0.4444444444444444,
              "#bd3786"
             ],
             [
              0.5555555555555556,
              "#d8576b"
             ],
             [
              0.6666666666666666,
              "#ed7953"
             ],
             [
              0.7777777777777778,
              "#fb9f3a"
             ],
             [
              0.8888888888888888,
              "#fdca26"
             ],
             [
              1,
              "#f0f921"
             ]
            ],
            "type": "histogram2d"
           }
          ],
          "histogram2dcontour": [
           {
            "colorbar": {
             "outlinewidth": 0,
             "ticks": ""
            },
            "colorscale": [
             [
              0,
              "#0d0887"
             ],
             [
              0.1111111111111111,
              "#46039f"
             ],
             [
              0.2222222222222222,
              "#7201a8"
             ],
             [
              0.3333333333333333,
              "#9c179e"
             ],
             [
              0.4444444444444444,
              "#bd3786"
             ],
             [
              0.5555555555555556,
              "#d8576b"
             ],
             [
              0.6666666666666666,
              "#ed7953"
             ],
             [
              0.7777777777777778,
              "#fb9f3a"
             ],
             [
              0.8888888888888888,
              "#fdca26"
             ],
             [
              1,
              "#f0f921"
             ]
            ],
            "type": "histogram2dcontour"
           }
          ],
          "mesh3d": [
           {
            "colorbar": {
             "outlinewidth": 0,
             "ticks": ""
            },
            "type": "mesh3d"
           }
          ],
          "parcoords": [
           {
            "line": {
             "colorbar": {
              "outlinewidth": 0,
              "ticks": ""
             }
            },
            "type": "parcoords"
           }
          ],
          "pie": [
           {
            "automargin": true,
            "type": "pie"
           }
          ],
          "scatter": [
           {
            "fillpattern": {
             "fillmode": "overlay",
             "size": 10,
             "solidity": 0.2
            },
            "type": "scatter"
           }
          ],
          "scatter3d": [
           {
            "line": {
             "colorbar": {
              "outlinewidth": 0,
              "ticks": ""
             }
            },
            "marker": {
             "colorbar": {
              "outlinewidth": 0,
              "ticks": ""
             }
            },
            "type": "scatter3d"
           }
          ],
          "scattercarpet": [
           {
            "marker": {
             "colorbar": {
              "outlinewidth": 0,
              "ticks": ""
             }
            },
            "type": "scattercarpet"
           }
          ],
          "scattergeo": [
           {
            "marker": {
             "colorbar": {
              "outlinewidth": 0,
              "ticks": ""
             }
            },
            "type": "scattergeo"
           }
          ],
          "scattergl": [
           {
            "marker": {
             "colorbar": {
              "outlinewidth": 0,
              "ticks": ""
             }
            },
            "type": "scattergl"
           }
          ],
          "scattermapbox": [
           {
            "marker": {
             "colorbar": {
              "outlinewidth": 0,
              "ticks": ""
             }
            },
            "type": "scattermapbox"
           }
          ],
          "scatterpolar": [
           {
            "marker": {
             "colorbar": {
              "outlinewidth": 0,
              "ticks": ""
             }
            },
            "type": "scatterpolar"
           }
          ],
          "scatterpolargl": [
           {
            "marker": {
             "colorbar": {
              "outlinewidth": 0,
              "ticks": ""
             }
            },
            "type": "scatterpolargl"
           }
          ],
          "scatterternary": [
           {
            "marker": {
             "colorbar": {
              "outlinewidth": 0,
              "ticks": ""
             }
            },
            "type": "scatterternary"
           }
          ],
          "surface": [
           {
            "colorbar": {
             "outlinewidth": 0,
             "ticks": ""
            },
            "colorscale": [
             [
              0,
              "#0d0887"
             ],
             [
              0.1111111111111111,
              "#46039f"
             ],
             [
              0.2222222222222222,
              "#7201a8"
             ],
             [
              0.3333333333333333,
              "#9c179e"
             ],
             [
              0.4444444444444444,
              "#bd3786"
             ],
             [
              0.5555555555555556,
              "#d8576b"
             ],
             [
              0.6666666666666666,
              "#ed7953"
             ],
             [
              0.7777777777777778,
              "#fb9f3a"
             ],
             [
              0.8888888888888888,
              "#fdca26"
             ],
             [
              1,
              "#f0f921"
             ]
            ],
            "type": "surface"
           }
          ],
          "table": [
           {
            "cells": {
             "fill": {
              "color": "#EBF0F8"
             },
             "line": {
              "color": "white"
             }
            },
            "header": {
             "fill": {
              "color": "#C8D4E3"
             },
             "line": {
              "color": "white"
             }
            },
            "type": "table"
           }
          ]
         },
         "layout": {
          "annotationdefaults": {
           "arrowcolor": "#2a3f5f",
           "arrowhead": 0,
           "arrowwidth": 1
          },
          "autotypenumbers": "strict",
          "coloraxis": {
           "colorbar": {
            "outlinewidth": 0,
            "ticks": ""
           }
          },
          "colorscale": {
           "diverging": [
            [
             0,
             "#8e0152"
            ],
            [
             0.1,
             "#c51b7d"
            ],
            [
             0.2,
             "#de77ae"
            ],
            [
             0.3,
             "#f1b6da"
            ],
            [
             0.4,
             "#fde0ef"
            ],
            [
             0.5,
             "#f7f7f7"
            ],
            [
             0.6,
             "#e6f5d0"
            ],
            [
             0.7,
             "#b8e186"
            ],
            [
             0.8,
             "#7fbc41"
            ],
            [
             0.9,
             "#4d9221"
            ],
            [
             1,
             "#276419"
            ]
           ],
           "sequential": [
            [
             0,
             "#0d0887"
            ],
            [
             0.1111111111111111,
             "#46039f"
            ],
            [
             0.2222222222222222,
             "#7201a8"
            ],
            [
             0.3333333333333333,
             "#9c179e"
            ],
            [
             0.4444444444444444,
             "#bd3786"
            ],
            [
             0.5555555555555556,
             "#d8576b"
            ],
            [
             0.6666666666666666,
             "#ed7953"
            ],
            [
             0.7777777777777778,
             "#fb9f3a"
            ],
            [
             0.8888888888888888,
             "#fdca26"
            ],
            [
             1,
             "#f0f921"
            ]
           ],
           "sequentialminus": [
            [
             0,
             "#0d0887"
            ],
            [
             0.1111111111111111,
             "#46039f"
            ],
            [
             0.2222222222222222,
             "#7201a8"
            ],
            [
             0.3333333333333333,
             "#9c179e"
            ],
            [
             0.4444444444444444,
             "#bd3786"
            ],
            [
             0.5555555555555556,
             "#d8576b"
            ],
            [
             0.6666666666666666,
             "#ed7953"
            ],
            [
             0.7777777777777778,
             "#fb9f3a"
            ],
            [
             0.8888888888888888,
             "#fdca26"
            ],
            [
             1,
             "#f0f921"
            ]
           ]
          },
          "colorway": [
           "#636efa",
           "#EF553B",
           "#00cc96",
           "#ab63fa",
           "#FFA15A",
           "#19d3f3",
           "#FF6692",
           "#B6E880",
           "#FF97FF",
           "#FECB52"
          ],
          "font": {
           "color": "#2a3f5f"
          },
          "geo": {
           "bgcolor": "white",
           "lakecolor": "white",
           "landcolor": "#E5ECF6",
           "showlakes": true,
           "showland": true,
           "subunitcolor": "white"
          },
          "hoverlabel": {
           "align": "left"
          },
          "hovermode": "closest",
          "mapbox": {
           "style": "light"
          },
          "paper_bgcolor": "white",
          "plot_bgcolor": "#E5ECF6",
          "polar": {
           "angularaxis": {
            "gridcolor": "white",
            "linecolor": "white",
            "ticks": ""
           },
           "bgcolor": "#E5ECF6",
           "radialaxis": {
            "gridcolor": "white",
            "linecolor": "white",
            "ticks": ""
           }
          },
          "scene": {
           "xaxis": {
            "backgroundcolor": "#E5ECF6",
            "gridcolor": "white",
            "gridwidth": 2,
            "linecolor": "white",
            "showbackground": true,
            "ticks": "",
            "zerolinecolor": "white"
           },
           "yaxis": {
            "backgroundcolor": "#E5ECF6",
            "gridcolor": "white",
            "gridwidth": 2,
            "linecolor": "white",
            "showbackground": true,
            "ticks": "",
            "zerolinecolor": "white"
           },
           "zaxis": {
            "backgroundcolor": "#E5ECF6",
            "gridcolor": "white",
            "gridwidth": 2,
            "linecolor": "white",
            "showbackground": true,
            "ticks": "",
            "zerolinecolor": "white"
           }
          },
          "shapedefaults": {
           "line": {
            "color": "#2a3f5f"
           }
          },
          "ternary": {
           "aaxis": {
            "gridcolor": "white",
            "linecolor": "white",
            "ticks": ""
           },
           "baxis": {
            "gridcolor": "white",
            "linecolor": "white",
            "ticks": ""
           },
           "bgcolor": "#E5ECF6",
           "caxis": {
            "gridcolor": "white",
            "linecolor": "white",
            "ticks": ""
           }
          },
          "title": {
           "x": 0.05
          },
          "xaxis": {
           "automargin": true,
           "gridcolor": "white",
           "linecolor": "white",
           "ticks": "",
           "title": {
            "standoff": 15
           },
           "zerolinecolor": "white",
           "zerolinewidth": 2
          },
          "yaxis": {
           "automargin": true,
           "gridcolor": "white",
           "linecolor": "white",
           "ticks": "",
           "title": {
            "standoff": 15
           },
           "zerolinecolor": "white",
           "zerolinewidth": 2
          }
         }
        },
        "title": {
         "text": "Count of Student Grades"
        },
        "xaxis": {
         "anchor": "y",
         "domain": [
          0,
          1
         ],
         "title": {
          "text": "GRADE"
         }
        },
        "yaxis": {
         "anchor": "x",
         "domain": [
          0,
          1
         ],
         "title": {
          "text": "count"
         }
        }
       }
      },
      "text/html": [
       "<div>                            <div id=\"4c4452b1-2c2d-4554-bc8d-76d7cf6f483d\" class=\"plotly-graph-div\" style=\"height:525px; width:100%;\"></div>            <script type=\"text/javascript\">                require([\"plotly\"], function(Plotly) {                    window.PLOTLYENV=window.PLOTLYENV || {};                                    if (document.getElementById(\"4c4452b1-2c2d-4554-bc8d-76d7cf6f483d\")) {                    Plotly.newPlot(                        \"4c4452b1-2c2d-4554-bc8d-76d7cf6f483d\",                        [{\"alignmentgroup\":\"True\",\"bingroup\":\"x\",\"hovertemplate\":\"GRADE=%{x}<br>count=%{y}<extra></extra>\",\"legendgroup\":\"\",\"marker\":{\"color\":\"#636efa\",\"pattern\":{\"shape\":\"\"}},\"name\":\"\",\"nbinsx\":8,\"offsetgroup\":\"\",\"orientation\":\"v\",\"showlegend\":false,\"x\":[1,1,1,1,1,2,5,2,5,0,2,0,0,1,2,2,1,2,2,3,1,1,3,1,2,3,1,1,3,5,5,3,1,2,2,1,2,1,2,1,1,1,1,4,1,3,5,3,1,2,1,4,1,5,3,3,5,4,3,5,2,5,3,5,3,2,5,1,5,5,7,6,6,6,7,7,4,7,4,3,4,3,7,7,7,4,5,6,6,6,6,6,7,4,6,5,7,6,7,7,6,7,7,7,3,7,7,6,6,7,2,2,2,1,2,1,1,1,1,2,1,0,2,1,3,2,3,1,0,3,1,4,3,3,1,2,0,2,0,0,5,5,1,4,3],\"xaxis\":\"x\",\"yaxis\":\"y\",\"type\":\"histogram\"}],                        {\"template\":{\"data\":{\"histogram2dcontour\":[{\"type\":\"histogram2dcontour\",\"colorbar\":{\"outlinewidth\":0,\"ticks\":\"\"},\"colorscale\":[[0.0,\"#0d0887\"],[0.1111111111111111,\"#46039f\"],[0.2222222222222222,\"#7201a8\"],[0.3333333333333333,\"#9c179e\"],[0.4444444444444444,\"#bd3786\"],[0.5555555555555556,\"#d8576b\"],[0.6666666666666666,\"#ed7953\"],[0.7777777777777778,\"#fb9f3a\"],[0.8888888888888888,\"#fdca26\"],[1.0,\"#f0f921\"]]}],\"choropleth\":[{\"type\":\"choropleth\",\"colorbar\":{\"outlinewidth\":0,\"ticks\":\"\"}}],\"histogram2d\":[{\"type\":\"histogram2d\",\"colorbar\":{\"outlinewidth\":0,\"ticks\":\"\"},\"colorscale\":[[0.0,\"#0d0887\"],[0.1111111111111111,\"#46039f\"],[0.2222222222222222,\"#7201a8\"],[0.3333333333333333,\"#9c179e\"],[0.4444444444444444,\"#bd3786\"],[0.5555555555555556,\"#d8576b\"],[0.6666666666666666,\"#ed7953\"],[0.7777777777777778,\"#fb9f3a\"],[0.8888888888888888,\"#fdca26\"],[1.0,\"#f0f921\"]]}],\"heatmap\":[{\"type\":\"heatmap\",\"colorbar\":{\"outlinewidth\":0,\"ticks\":\"\"},\"colorscale\":[[0.0,\"#0d0887\"],[0.1111111111111111,\"#46039f\"],[0.2222222222222222,\"#7201a8\"],[0.3333333333333333,\"#9c179e\"],[0.4444444444444444,\"#bd3786\"],[0.5555555555555556,\"#d8576b\"],[0.6666666666666666,\"#ed7953\"],[0.7777777777777778,\"#fb9f3a\"],[0.8888888888888888,\"#fdca26\"],[1.0,\"#f0f921\"]]}],\"heatmapgl\":[{\"type\":\"heatmapgl\",\"colorbar\":{\"outlinewidth\":0,\"ticks\":\"\"},\"colorscale\":[[0.0,\"#0d0887\"],[0.1111111111111111,\"#46039f\"],[0.2222222222222222,\"#7201a8\"],[0.3333333333333333,\"#9c179e\"],[0.4444444444444444,\"#bd3786\"],[0.5555555555555556,\"#d8576b\"],[0.6666666666666666,\"#ed7953\"],[0.7777777777777778,\"#fb9f3a\"],[0.8888888888888888,\"#fdca26\"],[1.0,\"#f0f921\"]]}],\"contourcarpet\":[{\"type\":\"contourcarpet\",\"colorbar\":{\"outlinewidth\":0,\"ticks\":\"\"}}],\"contour\":[{\"type\":\"contour\",\"colorbar\":{\"outlinewidth\":0,\"ticks\":\"\"},\"colorscale\":[[0.0,\"#0d0887\"],[0.1111111111111111,\"#46039f\"],[0.2222222222222222,\"#7201a8\"],[0.3333333333333333,\"#9c179e\"],[0.4444444444444444,\"#bd3786\"],[0.5555555555555556,\"#d8576b\"],[0.6666666666666666,\"#ed7953\"],[0.7777777777777778,\"#fb9f3a\"],[0.8888888888888888,\"#fdca26\"],[1.0,\"#f0f921\"]]}],\"surface\":[{\"type\":\"surface\",\"colorbar\":{\"outlinewidth\":0,\"ticks\":\"\"},\"colorscale\":[[0.0,\"#0d0887\"],[0.1111111111111111,\"#46039f\"],[0.2222222222222222,\"#7201a8\"],[0.3333333333333333,\"#9c179e\"],[0.4444444444444444,\"#bd3786\"],[0.5555555555555556,\"#d8576b\"],[0.6666666666666666,\"#ed7953\"],[0.7777777777777778,\"#fb9f3a\"],[0.8888888888888888,\"#fdca26\"],[1.0,\"#f0f921\"]]}],\"mesh3d\":[{\"type\":\"mesh3d\",\"colorbar\":{\"outlinewidth\":0,\"ticks\":\"\"}}],\"scatter\":[{\"fillpattern\":{\"fillmode\":\"overlay\",\"size\":10,\"solidity\":0.2},\"type\":\"scatter\"}],\"parcoords\":[{\"type\":\"parcoords\",\"line\":{\"colorbar\":{\"outlinewidth\":0,\"ticks\":\"\"}}}],\"scatterpolargl\":[{\"type\":\"scatterpolargl\",\"marker\":{\"colorbar\":{\"outlinewidth\":0,\"ticks\":\"\"}}}],\"bar\":[{\"error_x\":{\"color\":\"#2a3f5f\"},\"error_y\":{\"color\":\"#2a3f5f\"},\"marker\":{\"line\":{\"color\":\"#E5ECF6\",\"width\":0.5},\"pattern\":{\"fillmode\":\"overlay\",\"size\":10,\"solidity\":0.2}},\"type\":\"bar\"}],\"scattergeo\":[{\"type\":\"scattergeo\",\"marker\":{\"colorbar\":{\"outlinewidth\":0,\"ticks\":\"\"}}}],\"scatterpolar\":[{\"type\":\"scatterpolar\",\"marker\":{\"colorbar\":{\"outlinewidth\":0,\"ticks\":\"\"}}}],\"histogram\":[{\"marker\":{\"pattern\":{\"fillmode\":\"overlay\",\"size\":10,\"solidity\":0.2}},\"type\":\"histogram\"}],\"scattergl\":[{\"type\":\"scattergl\",\"marker\":{\"colorbar\":{\"outlinewidth\":0,\"ticks\":\"\"}}}],\"scatter3d\":[{\"type\":\"scatter3d\",\"line\":{\"colorbar\":{\"outlinewidth\":0,\"ticks\":\"\"}},\"marker\":{\"colorbar\":{\"outlinewidth\":0,\"ticks\":\"\"}}}],\"scattermapbox\":[{\"type\":\"scattermapbox\",\"marker\":{\"colorbar\":{\"outlinewidth\":0,\"ticks\":\"\"}}}],\"scatterternary\":[{\"type\":\"scatterternary\",\"marker\":{\"colorbar\":{\"outlinewidth\":0,\"ticks\":\"\"}}}],\"scattercarpet\":[{\"type\":\"scattercarpet\",\"marker\":{\"colorbar\":{\"outlinewidth\":0,\"ticks\":\"\"}}}],\"carpet\":[{\"aaxis\":{\"endlinecolor\":\"#2a3f5f\",\"gridcolor\":\"white\",\"linecolor\":\"white\",\"minorgridcolor\":\"white\",\"startlinecolor\":\"#2a3f5f\"},\"baxis\":{\"endlinecolor\":\"#2a3f5f\",\"gridcolor\":\"white\",\"linecolor\":\"white\",\"minorgridcolor\":\"white\",\"startlinecolor\":\"#2a3f5f\"},\"type\":\"carpet\"}],\"table\":[{\"cells\":{\"fill\":{\"color\":\"#EBF0F8\"},\"line\":{\"color\":\"white\"}},\"header\":{\"fill\":{\"color\":\"#C8D4E3\"},\"line\":{\"color\":\"white\"}},\"type\":\"table\"}],\"barpolar\":[{\"marker\":{\"line\":{\"color\":\"#E5ECF6\",\"width\":0.5},\"pattern\":{\"fillmode\":\"overlay\",\"size\":10,\"solidity\":0.2}},\"type\":\"barpolar\"}],\"pie\":[{\"automargin\":true,\"type\":\"pie\"}]},\"layout\":{\"autotypenumbers\":\"strict\",\"colorway\":[\"#636efa\",\"#EF553B\",\"#00cc96\",\"#ab63fa\",\"#FFA15A\",\"#19d3f3\",\"#FF6692\",\"#B6E880\",\"#FF97FF\",\"#FECB52\"],\"font\":{\"color\":\"#2a3f5f\"},\"hovermode\":\"closest\",\"hoverlabel\":{\"align\":\"left\"},\"paper_bgcolor\":\"white\",\"plot_bgcolor\":\"#E5ECF6\",\"polar\":{\"bgcolor\":\"#E5ECF6\",\"angularaxis\":{\"gridcolor\":\"white\",\"linecolor\":\"white\",\"ticks\":\"\"},\"radialaxis\":{\"gridcolor\":\"white\",\"linecolor\":\"white\",\"ticks\":\"\"}},\"ternary\":{\"bgcolor\":\"#E5ECF6\",\"aaxis\":{\"gridcolor\":\"white\",\"linecolor\":\"white\",\"ticks\":\"\"},\"baxis\":{\"gridcolor\":\"white\",\"linecolor\":\"white\",\"ticks\":\"\"},\"caxis\":{\"gridcolor\":\"white\",\"linecolor\":\"white\",\"ticks\":\"\"}},\"coloraxis\":{\"colorbar\":{\"outlinewidth\":0,\"ticks\":\"\"}},\"colorscale\":{\"sequential\":[[0.0,\"#0d0887\"],[0.1111111111111111,\"#46039f\"],[0.2222222222222222,\"#7201a8\"],[0.3333333333333333,\"#9c179e\"],[0.4444444444444444,\"#bd3786\"],[0.5555555555555556,\"#d8576b\"],[0.6666666666666666,\"#ed7953\"],[0.7777777777777778,\"#fb9f3a\"],[0.8888888888888888,\"#fdca26\"],[1.0,\"#f0f921\"]],\"sequentialminus\":[[0.0,\"#0d0887\"],[0.1111111111111111,\"#46039f\"],[0.2222222222222222,\"#7201a8\"],[0.3333333333333333,\"#9c179e\"],[0.4444444444444444,\"#bd3786\"],[0.5555555555555556,\"#d8576b\"],[0.6666666666666666,\"#ed7953\"],[0.7777777777777778,\"#fb9f3a\"],[0.8888888888888888,\"#fdca26\"],[1.0,\"#f0f921\"]],\"diverging\":[[0,\"#8e0152\"],[0.1,\"#c51b7d\"],[0.2,\"#de77ae\"],[0.3,\"#f1b6da\"],[0.4,\"#fde0ef\"],[0.5,\"#f7f7f7\"],[0.6,\"#e6f5d0\"],[0.7,\"#b8e186\"],[0.8,\"#7fbc41\"],[0.9,\"#4d9221\"],[1,\"#276419\"]]},\"xaxis\":{\"gridcolor\":\"white\",\"linecolor\":\"white\",\"ticks\":\"\",\"title\":{\"standoff\":15},\"zerolinecolor\":\"white\",\"automargin\":true,\"zerolinewidth\":2},\"yaxis\":{\"gridcolor\":\"white\",\"linecolor\":\"white\",\"ticks\":\"\",\"title\":{\"standoff\":15},\"zerolinecolor\":\"white\",\"automargin\":true,\"zerolinewidth\":2},\"scene\":{\"xaxis\":{\"backgroundcolor\":\"#E5ECF6\",\"gridcolor\":\"white\",\"linecolor\":\"white\",\"showbackground\":true,\"ticks\":\"\",\"zerolinecolor\":\"white\",\"gridwidth\":2},\"yaxis\":{\"backgroundcolor\":\"#E5ECF6\",\"gridcolor\":\"white\",\"linecolor\":\"white\",\"showbackground\":true,\"ticks\":\"\",\"zerolinecolor\":\"white\",\"gridwidth\":2},\"zaxis\":{\"backgroundcolor\":\"#E5ECF6\",\"gridcolor\":\"white\",\"linecolor\":\"white\",\"showbackground\":true,\"ticks\":\"\",\"zerolinecolor\":\"white\",\"gridwidth\":2}},\"shapedefaults\":{\"line\":{\"color\":\"#2a3f5f\"}},\"annotationdefaults\":{\"arrowcolor\":\"#2a3f5f\",\"arrowhead\":0,\"arrowwidth\":1},\"geo\":{\"bgcolor\":\"white\",\"landcolor\":\"#E5ECF6\",\"subunitcolor\":\"white\",\"showland\":true,\"showlakes\":true,\"lakecolor\":\"white\"},\"title\":{\"x\":0.05},\"mapbox\":{\"style\":\"light\"}}},\"xaxis\":{\"anchor\":\"y\",\"domain\":[0.0,1.0],\"title\":{\"text\":\"GRADE\"}},\"yaxis\":{\"anchor\":\"x\",\"domain\":[0.0,1.0],\"title\":{\"text\":\"count\"}},\"legend\":{\"tracegroupgap\":0},\"title\":{\"text\":\"Count of Student Grades\"},\"barmode\":\"relative\"},                        {\"responsive\": true}                    ).then(function(){\n",
       "                            \n",
       "var gd = document.getElementById('4c4452b1-2c2d-4554-bc8d-76d7cf6f483d');\n",
       "var x = new MutationObserver(function (mutations, observer) {{\n",
       "        var display = window.getComputedStyle(gd).display;\n",
       "        if (!display || display === 'none') {{\n",
       "            console.log([gd, 'removed!']);\n",
       "            Plotly.purge(gd);\n",
       "            observer.disconnect();\n",
       "        }}\n",
       "}});\n",
       "\n",
       "// Listen for the removal of the full notebook cells\n",
       "var notebookContainer = gd.closest('#notebook-container');\n",
       "if (notebookContainer) {{\n",
       "    x.observe(notebookContainer, {childList: true});\n",
       "}}\n",
       "\n",
       "// Listen for the clearing of the current output cell\n",
       "var outputEl = gd.closest('.output');\n",
       "if (outputEl) {{\n",
       "    x.observe(outputEl, {childList: true});\n",
       "}}\n",
       "\n",
       "                        })                };                });            </script>        </div>"
      ]
     },
     "metadata": {},
     "output_type": "display_data"
    }
   ],
   "source": [
    "# Plotting the histogram\n",
    "\n",
    "px.histogram(df_new, x='GRADE', nbins=8, title='Count of Student Grades')"
   ]
  },
  {
   "cell_type": "code",
   "execution_count": null,
   "id": "2b29bc44",
   "metadata": {},
   "outputs": [],
   "source": []
  },
  {
   "cell_type": "markdown",
   "id": "690fd121",
   "metadata": {},
   "source": [
    "From the above histogram, most of the students have a GRADE of 1(DD) and only few failed (GRADE of 0)"
   ]
  },
  {
   "cell_type": "markdown",
   "id": "260a4b8a",
   "metadata": {},
   "source": [
    "# Calculating Correlation betweent the categorical features\n",
    "\n",
    "Comparing 2 categorical features, I will use Chi-Squared Test\n",
    "\n",
    "I have these hypotheses:\n",
    "\n",
    "H0 = There 2 categorical features are not correlated\n",
    "H1 = There 2 categorical features are correlated\n",
    "\n",
    "Where p-value < 0.05\n",
    "\n",
    "Chi-Squared Test result: The probability of H0 being True\n",
    "\n",
    "I will test out all the features and see which of them are correlated with the GRADE\n",
    "\n",
    "Then, I will know which features that influence the GRADE\n",
    "\n",
    "\n"
   ]
  },
  {
   "cell_type": "code",
   "execution_count": 94,
   "id": "a35436fa",
   "metadata": {},
   "outputs": [
    {
     "data": {
      "text/html": [
       "<div>\n",
       "<style scoped>\n",
       "    .dataframe tbody tr th:only-of-type {\n",
       "        vertical-align: middle;\n",
       "    }\n",
       "\n",
       "    .dataframe tbody tr th {\n",
       "        vertical-align: top;\n",
       "    }\n",
       "\n",
       "    .dataframe thead th {\n",
       "        text-align: right;\n",
       "    }\n",
       "</style>\n",
       "<table border=\"1\" class=\"dataframe\">\n",
       "  <thead>\n",
       "    <tr style=\"text-align: right;\">\n",
       "      <th></th>\n",
       "      <th>stdAge</th>\n",
       "      <th>Sex</th>\n",
       "      <th>GradHigh</th>\n",
       "      <th>Schip</th>\n",
       "      <th>AddW</th>\n",
       "      <th>ArtSprt</th>\n",
       "      <th>Partner</th>\n",
       "      <th>TotSal</th>\n",
       "      <th>Transp</th>\n",
       "      <th>Acc</th>\n",
       "      <th>...</th>\n",
       "      <th>ProjImp</th>\n",
       "      <th>AttdCls</th>\n",
       "      <th>PrepMid1</th>\n",
       "      <th>PrepMid2</th>\n",
       "      <th>TakeNote</th>\n",
       "      <th>Listn</th>\n",
       "      <th>Discn</th>\n",
       "      <th>FlipCl</th>\n",
       "      <th>CumGPA</th>\n",
       "      <th>ExpGPA</th>\n",
       "    </tr>\n",
       "  </thead>\n",
       "  <tbody>\n",
       "    <tr>\n",
       "      <th>0</th>\n",
       "      <td>2</td>\n",
       "      <td>2</td>\n",
       "      <td>3</td>\n",
       "      <td>3</td>\n",
       "      <td>1</td>\n",
       "      <td>2</td>\n",
       "      <td>2</td>\n",
       "      <td>1</td>\n",
       "      <td>1</td>\n",
       "      <td>1</td>\n",
       "      <td>...</td>\n",
       "      <td>1</td>\n",
       "      <td>1</td>\n",
       "      <td>1</td>\n",
       "      <td>1</td>\n",
       "      <td>3</td>\n",
       "      <td>2</td>\n",
       "      <td>1</td>\n",
       "      <td>2</td>\n",
       "      <td>1</td>\n",
       "      <td>1</td>\n",
       "    </tr>\n",
       "    <tr>\n",
       "      <th>1</th>\n",
       "      <td>2</td>\n",
       "      <td>2</td>\n",
       "      <td>3</td>\n",
       "      <td>3</td>\n",
       "      <td>1</td>\n",
       "      <td>2</td>\n",
       "      <td>2</td>\n",
       "      <td>1</td>\n",
       "      <td>1</td>\n",
       "      <td>1</td>\n",
       "      <td>...</td>\n",
       "      <td>1</td>\n",
       "      <td>1</td>\n",
       "      <td>1</td>\n",
       "      <td>1</td>\n",
       "      <td>3</td>\n",
       "      <td>2</td>\n",
       "      <td>3</td>\n",
       "      <td>2</td>\n",
       "      <td>2</td>\n",
       "      <td>3</td>\n",
       "    </tr>\n",
       "    <tr>\n",
       "      <th>2</th>\n",
       "      <td>2</td>\n",
       "      <td>2</td>\n",
       "      <td>2</td>\n",
       "      <td>3</td>\n",
       "      <td>2</td>\n",
       "      <td>2</td>\n",
       "      <td>2</td>\n",
       "      <td>2</td>\n",
       "      <td>4</td>\n",
       "      <td>2</td>\n",
       "      <td>...</td>\n",
       "      <td>1</td>\n",
       "      <td>1</td>\n",
       "      <td>1</td>\n",
       "      <td>1</td>\n",
       "      <td>2</td>\n",
       "      <td>2</td>\n",
       "      <td>1</td>\n",
       "      <td>1</td>\n",
       "      <td>2</td>\n",
       "      <td>2</td>\n",
       "    </tr>\n",
       "    <tr>\n",
       "      <th>3</th>\n",
       "      <td>1</td>\n",
       "      <td>1</td>\n",
       "      <td>1</td>\n",
       "      <td>3</td>\n",
       "      <td>1</td>\n",
       "      <td>2</td>\n",
       "      <td>1</td>\n",
       "      <td>2</td>\n",
       "      <td>1</td>\n",
       "      <td>2</td>\n",
       "      <td>...</td>\n",
       "      <td>1</td>\n",
       "      <td>1</td>\n",
       "      <td>1</td>\n",
       "      <td>2</td>\n",
       "      <td>3</td>\n",
       "      <td>2</td>\n",
       "      <td>2</td>\n",
       "      <td>1</td>\n",
       "      <td>3</td>\n",
       "      <td>2</td>\n",
       "    </tr>\n",
       "    <tr>\n",
       "      <th>4</th>\n",
       "      <td>2</td>\n",
       "      <td>2</td>\n",
       "      <td>1</td>\n",
       "      <td>3</td>\n",
       "      <td>2</td>\n",
       "      <td>2</td>\n",
       "      <td>1</td>\n",
       "      <td>3</td>\n",
       "      <td>1</td>\n",
       "      <td>4</td>\n",
       "      <td>...</td>\n",
       "      <td>1</td>\n",
       "      <td>1</td>\n",
       "      <td>2</td>\n",
       "      <td>1</td>\n",
       "      <td>2</td>\n",
       "      <td>2</td>\n",
       "      <td>2</td>\n",
       "      <td>1</td>\n",
       "      <td>2</td>\n",
       "      <td>2</td>\n",
       "    </tr>\n",
       "    <tr>\n",
       "      <th>...</th>\n",
       "      <td>...</td>\n",
       "      <td>...</td>\n",
       "      <td>...</td>\n",
       "      <td>...</td>\n",
       "      <td>...</td>\n",
       "      <td>...</td>\n",
       "      <td>...</td>\n",
       "      <td>...</td>\n",
       "      <td>...</td>\n",
       "      <td>...</td>\n",
       "      <td>...</td>\n",
       "      <td>...</td>\n",
       "      <td>...</td>\n",
       "      <td>...</td>\n",
       "      <td>...</td>\n",
       "      <td>...</td>\n",
       "      <td>...</td>\n",
       "      <td>...</td>\n",
       "      <td>...</td>\n",
       "      <td>...</td>\n",
       "      <td>...</td>\n",
       "    </tr>\n",
       "    <tr>\n",
       "      <th>140</th>\n",
       "      <td>2</td>\n",
       "      <td>1</td>\n",
       "      <td>2</td>\n",
       "      <td>3</td>\n",
       "      <td>1</td>\n",
       "      <td>1</td>\n",
       "      <td>2</td>\n",
       "      <td>1</td>\n",
       "      <td>1</td>\n",
       "      <td>2</td>\n",
       "      <td>...</td>\n",
       "      <td>1</td>\n",
       "      <td>1</td>\n",
       "      <td>1</td>\n",
       "      <td>1</td>\n",
       "      <td>2</td>\n",
       "      <td>1</td>\n",
       "      <td>2</td>\n",
       "      <td>1</td>\n",
       "      <td>3</td>\n",
       "      <td>3</td>\n",
       "    </tr>\n",
       "    <tr>\n",
       "      <th>141</th>\n",
       "      <td>1</td>\n",
       "      <td>1</td>\n",
       "      <td>2</td>\n",
       "      <td>4</td>\n",
       "      <td>2</td>\n",
       "      <td>2</td>\n",
       "      <td>2</td>\n",
       "      <td>1</td>\n",
       "      <td>4</td>\n",
       "      <td>2</td>\n",
       "      <td>...</td>\n",
       "      <td>1</td>\n",
       "      <td>2</td>\n",
       "      <td>1</td>\n",
       "      <td>1</td>\n",
       "      <td>3</td>\n",
       "      <td>2</td>\n",
       "      <td>2</td>\n",
       "      <td>1</td>\n",
       "      <td>5</td>\n",
       "      <td>3</td>\n",
       "    </tr>\n",
       "    <tr>\n",
       "      <th>142</th>\n",
       "      <td>1</td>\n",
       "      <td>1</td>\n",
       "      <td>1</td>\n",
       "      <td>4</td>\n",
       "      <td>2</td>\n",
       "      <td>2</td>\n",
       "      <td>2</td>\n",
       "      <td>1</td>\n",
       "      <td>1</td>\n",
       "      <td>1</td>\n",
       "      <td>...</td>\n",
       "      <td>1</td>\n",
       "      <td>1</td>\n",
       "      <td>1</td>\n",
       "      <td>1</td>\n",
       "      <td>3</td>\n",
       "      <td>3</td>\n",
       "      <td>2</td>\n",
       "      <td>1</td>\n",
       "      <td>4</td>\n",
       "      <td>3</td>\n",
       "    </tr>\n",
       "    <tr>\n",
       "      <th>143</th>\n",
       "      <td>2</td>\n",
       "      <td>1</td>\n",
       "      <td>2</td>\n",
       "      <td>4</td>\n",
       "      <td>1</td>\n",
       "      <td>1</td>\n",
       "      <td>1</td>\n",
       "      <td>5</td>\n",
       "      <td>2</td>\n",
       "      <td>3</td>\n",
       "      <td>...</td>\n",
       "      <td>1</td>\n",
       "      <td>1</td>\n",
       "      <td>2</td>\n",
       "      <td>1</td>\n",
       "      <td>2</td>\n",
       "      <td>1</td>\n",
       "      <td>2</td>\n",
       "      <td>1</td>\n",
       "      <td>5</td>\n",
       "      <td>3</td>\n",
       "    </tr>\n",
       "    <tr>\n",
       "      <th>144</th>\n",
       "      <td>1</td>\n",
       "      <td>1</td>\n",
       "      <td>1</td>\n",
       "      <td>5</td>\n",
       "      <td>2</td>\n",
       "      <td>2</td>\n",
       "      <td>2</td>\n",
       "      <td>3</td>\n",
       "      <td>1</td>\n",
       "      <td>1</td>\n",
       "      <td>...</td>\n",
       "      <td>1</td>\n",
       "      <td>1</td>\n",
       "      <td>2</td>\n",
       "      <td>1</td>\n",
       "      <td>3</td>\n",
       "      <td>2</td>\n",
       "      <td>3</td>\n",
       "      <td>1</td>\n",
       "      <td>5</td>\n",
       "      <td>4</td>\n",
       "    </tr>\n",
       "  </tbody>\n",
       "</table>\n",
       "<p>145 rows × 30 columns</p>\n",
       "</div>"
      ],
      "text/plain": [
       "     stdAge  Sex  GradHigh  Schip  AddW  ArtSprt  Partner  TotSal  Transp  \\\n",
       "0         2    2         3      3     1        2        2       1       1   \n",
       "1         2    2         3      3     1        2        2       1       1   \n",
       "2         2    2         2      3     2        2        2       2       4   \n",
       "3         1    1         1      3     1        2        1       2       1   \n",
       "4         2    2         1      3     2        2        1       3       1   \n",
       "..      ...  ...       ...    ...   ...      ...      ...     ...     ...   \n",
       "140       2    1         2      3     1        1        2       1       1   \n",
       "141       1    1         2      4     2        2        2       1       4   \n",
       "142       1    1         1      4     2        2        2       1       1   \n",
       "143       2    1         2      4     1        1        1       5       2   \n",
       "144       1    1         1      5     2        2        2       3       1   \n",
       "\n",
       "     Acc  ...  ProjImp  AttdCls  PrepMid1  PrepMid2  TakeNote  Listn  Discn  \\\n",
       "0      1  ...        1        1         1         1         3      2      1   \n",
       "1      1  ...        1        1         1         1         3      2      3   \n",
       "2      2  ...        1        1         1         1         2      2      1   \n",
       "3      2  ...        1        1         1         2         3      2      2   \n",
       "4      4  ...        1        1         2         1         2      2      2   \n",
       "..   ...  ...      ...      ...       ...       ...       ...    ...    ...   \n",
       "140    2  ...        1        1         1         1         2      1      2   \n",
       "141    2  ...        1        2         1         1         3      2      2   \n",
       "142    1  ...        1        1         1         1         3      3      2   \n",
       "143    3  ...        1        1         2         1         2      1      2   \n",
       "144    1  ...        1        1         2         1         3      2      3   \n",
       "\n",
       "     FlipCl  CumGPA  ExpGPA  \n",
       "0         2       1       1  \n",
       "1         2       2       3  \n",
       "2         1       2       2  \n",
       "3         1       3       2  \n",
       "4         1       2       2  \n",
       "..      ...     ...     ...  \n",
       "140       1       3       3  \n",
       "141       1       5       3  \n",
       "142       1       4       3  \n",
       "143       1       5       3  \n",
       "144       1       5       4  \n",
       "\n",
       "[145 rows x 30 columns]"
      ]
     },
     "execution_count": 94,
     "metadata": {},
     "output_type": "execute_result"
    }
   ],
   "source": [
    "# Creating a crosstab to see the count of the features against the GRADE\n",
    "\n",
    "\n",
    "# First split features from the target GRADE\n",
    "df_split = df_new.drop(columns='GRADE')\n",
    "df_split"
   ]
  },
  {
   "cell_type": "code",
   "execution_count": 95,
   "id": "d0002b2e",
   "metadata": {},
   "outputs": [
    {
     "data": {
      "text/plain": [
       "0    1\n",
       "1    1\n",
       "2    1\n",
       "3    1\n",
       "4    1\n",
       "Name: GRADE, dtype: int64"
      ]
     },
     "execution_count": 95,
     "metadata": {},
     "output_type": "execute_result"
    }
   ],
   "source": [
    "# Store target GRADE in a new dataframe\n",
    "\n",
    "df_grade = df['GRADE']\n",
    "df_grade.head()"
   ]
  },
  {
   "cell_type": "code",
   "execution_count": 96,
   "id": "21422b9c",
   "metadata": {},
   "outputs": [
    {
     "name": "stdout",
     "output_type": "stream",
     "text": [
      "GRADE   0   1   2   3   4   5   6   7  All\n",
      "stdAge                                    \n",
      "1       6  13  10   9   4   4   6  13   65\n",
      "2       2  19  13   7   6  13   7   3   70\n",
      "3       0   3   1   5   0   0   0   1   10\n",
      "All     8  35  24  21  10  17  13  17  145\n",
      "GRADE  0   1   2   3   4   5   6   7  All\n",
      "Sex                                      \n",
      "1      8  16  12   7   5   6   4   0   58\n",
      "2      0  19  12  14   5  11   9  17   87\n",
      "All    8  35  24  21  10  17  13  17  145\n",
      "GRADE     0   1   2   3   4   5   6   7  All\n",
      "GradHigh                                    \n",
      "1         2   8   5   4   2   0   1   3   25\n",
      "2         6  21  17  16   7  13  11  12  103\n",
      "3         0   6   2   1   1   4   1   2   17\n",
      "All       8  35  24  21  10  17  13  17  145\n",
      "GRADE  0   1   2   3   4   5   6   7  All\n",
      "Schip                                    \n",
      "1      0   0   0   0   1   0   0   0    1\n",
      "2      0   1   0   0   1   0   0   1    3\n",
      "3      3  23  13  14   4   8   5   6   76\n",
      "4      5   4   5   3   2   7   6  10   42\n",
      "5      0   7   6   4   2   2   2   0   23\n",
      "All    8  35  24  21  10  17  13  17  145\n",
      "GRADE  0   1   2   3   4   5   6   7  All\n",
      "AddW                                     \n",
      "1      5  13   8   7   6   4   3   3   49\n",
      "2      3  22  16  14   4  13  10  14   96\n",
      "All    8  35  24  21  10  17  13  17  145\n",
      "GRADE    0   1   2   3   4   5   6   7  All\n",
      "ArtSprt                                    \n",
      "1        5  12   9   4   6   8   7   7   58\n",
      "2        3  23  15  17   4   9   6  10   87\n",
      "All      8  35  24  21  10  17  13  17  145\n",
      "GRADE    0   1   2   3   4   5   6   7  All\n",
      "Partner                                    \n",
      "1        6  13   5  11   4   8   5   9   61\n",
      "2        2  22  19  10   6   9   8   8   84\n",
      "All      8  35  24  21  10  17  13  17  145\n",
      "GRADE   0   1   2   3   4   5   6   7  All\n",
      "TotSal                                    \n",
      "1       4  21  11  14   7  14  11  11   93\n",
      "2       1   9   6   1   2   3   2   3   27\n",
      "3       1   4   5   4   0   0   0   2   16\n",
      "4       1   0   1   2   0   0   0   0    4\n",
      "5       1   1   1   0   1   0   0   1    5\n",
      "All     8  35  24  21  10  17  13  17  145\n",
      "GRADE   0   1   2   3   4   5   6   7  All\n",
      "Transp                                    \n",
      "1       1  24  16  15   7  13  10  12   98\n",
      "2       5   4   3   3   3   1   3   3   25\n",
      "3       0   0   1   0   0   0   0   0    1\n",
      "4       2   7   4   3   0   3   0   2   21\n",
      "All     8  35  24  21  10  17  13  17  145\n",
      "GRADE  0   1   2   3   4   5   6   7  All\n",
      "Acc                                      \n",
      "1      2  18  14   8   7   8   5   6   68\n",
      "2      1  12   6  11   2   6   3   8   49\n",
      "3      5   4   4   2   1   3   5   3   27\n",
      "4      0   1   0   0   0   0   0   0    1\n",
      "All    8  35  24  21  10  17  13  17  145\n",
      "GRADE     0   1   2   3   4   5   6   7  All\n",
      "MotherEd                                    \n",
      "1         2  15   5  11   5   9   5   2   54\n",
      "2         0   7   5   5   1   3   0   6   27\n",
      "3         5   9  10   2   0   4   5   4   39\n",
      "4         0   4   3   3   3   1   3   4   21\n",
      "5         1   0   0   0   1   0   0   0    2\n",
      "6         0   0   1   0   0   0   0   1    2\n",
      "All       8  35  24  21  10  17  13  17  145\n",
      "GRADE     0   1   2   3   4   5   6   7  All\n",
      "FatherEd                                    \n",
      "1         2   5   7   5   2   3   3   2   29\n",
      "2         1  12   4   5   3   4   2   5   36\n",
      "3         2  10   9   7   3   7   5   3   46\n",
      "4         1   8   4   3   2   3   2   5   28\n",
      "5         2   0   0   0   0   0   1   2    5\n",
      "6         0   0   0   1   0   0   0   0    1\n",
      "All       8  35  24  21  10  17  13  17  145\n",
      "GRADE  0   1   2   3   4   5   6   7  All\n",
      "Sib                                      \n",
      "1      3   5   5   3   2   2   3   4   27\n",
      "2      1  13  12   5   1   5   3   5   45\n",
      "3      2   6   4   4   3   3   1   3   26\n",
      "4      1   8   0   5   2   1   2   4   23\n",
      "5      1   3   3   4   2   6   4   1   24\n",
      "All    8  35  24  21  10  17  13  17  145\n",
      "GRADE    0   1   2   3   4   5   6   7  All\n",
      "ParStat                                    \n",
      "1        5  33  21  18  10  15  12  13  127\n",
      "2        2   2   2   2   0   1   0   2   11\n",
      "3        1   0   1   1   0   1   1   2    7\n",
      "All      8  35  24  21  10  17  13  17  145\n",
      "GRADE      0   1   2   3   4   5   6   7  All\n",
      "MotherOcc                                    \n",
      "1          0   2   1   0   0   0   2   1    6\n",
      "2          3  27  17  16   6  15   8  11  103\n",
      "3          2   4   3   1   3   0   2   1   16\n",
      "4          2   2   3   3   1   2   1   4   18\n",
      "5          1   0   0   1   0   0   0   0    2\n",
      "All        8  35  24  21  10  17  13  17  145\n",
      "GRADE      0   1   2   3   4   5   6   7  All\n",
      "FatherOcc                                    \n",
      "1          0   8   8   5   3   6   1   5   36\n",
      "2          3   5   2   2   1   0   3   6   22\n",
      "3          1  10   6   5   5   3   4   1   35\n",
      "4          3   9   5   9   1   5   3   3   38\n",
      "5          1   3   3   0   0   3   2   2   14\n",
      "All        8  35  24  21  10  17  13  17  145\n",
      "GRADE    0   1   2   3   4   5   6   7  All\n",
      "WeekStd                                    \n",
      "1        1   6   9   3   3   5   0   2   29\n",
      "2        4  18  11   8   5   7  11  10   74\n",
      "3        2   9   2   6   0   4   2   5   30\n",
      "4        0   2   0   4   1   1   0   0    8\n",
      "5        1   0   2   0   1   0   0   0    4\n",
      "All      8  35  24  21  10  17  13  17  145\n",
      "GRADE      0   1   2   3   4   5   6   7  All\n",
      "ReadFreqN                                    \n",
      "1          2   7   8   3   3   3   1   0   27\n",
      "2          4  25  14  17   4  13  10  12   99\n",
      "3          2   3   2   1   3   1   2   5   19\n",
      "All        8  35  24  21  10  17  13  17  145\n",
      "GRADE      0   1   2   3   4   5   6   7  All\n",
      "ReadFreqS                                    \n",
      "1          1   7   3   2   4   0   2   1   20\n",
      "2          4  23  19  14   4  15   9  15  103\n",
      "3          3   5   2   5   2   2   2   1   22\n",
      "All        8  35  24  21  10  17  13  17  145\n",
      "GRADE     0   1   2   3   4   5   6   7  All\n",
      "AttdConf                                    \n",
      "1         4  26  17  17   9  15  12  14  114\n",
      "2         4   9   7   4   1   2   1   3   31\n",
      "All       8  35  24  21  10  17  13  17  145\n",
      "GRADE    0   1   2   3   4   5   6   7  All\n",
      "ProjImp                                    \n",
      "1        5  33  17  18   9  16  13  17  128\n",
      "2        0   0   3   1   0   0   0   0    4\n",
      "3        3   2   4   2   1   1   0   0   13\n",
      "All      8  35  24  21  10  17  13  17  145\n",
      "GRADE    0   1   2   3   4   5   6   7  All\n",
      "AttdCls                                    \n",
      "1        6  23  16  20   7  12  11  15  110\n",
      "2        2  12   8   1   3   5   2   2   35\n",
      "All      8  35  24  21  10  17  13  17  145\n",
      "GRADE     0   1   2   3   4   5   6   7  All\n",
      "PrepMid1                                    \n",
      "1         3  29  17  14   8  14  11  11  107\n",
      "2         3   5   6   6   1   2   2   2   27\n",
      "3         2   1   1   1   1   1   0   4   11\n",
      "All       8  35  24  21  10  17  13  17  145\n",
      "GRADE     0   1   2   3   4   5   6   7  All\n",
      "PrepMid2                                    \n",
      "1         7  30  22  16   8  16  11  13  123\n",
      "2         1   5   2   4   2   1   2   3   20\n",
      "3         0   0   0   1   0   0   0   1    2\n",
      "All       8  35  24  21  10  17  13  17  145\n",
      "GRADE     0   1   2   3   4   5   6   7  All\n",
      "TakeNote                                    \n",
      "1         1   0   3   1   0   0   0   0    5\n",
      "2         3  12  12   5   4   6   8   6   56\n",
      "3         4  23   9  15   6  11   5  11   84\n",
      "All       8  35  24  21  10  17  13  17  145\n",
      "GRADE  0   1   2   3   4   5   6   7  All\n",
      "Listn                                    \n",
      "1      2   8   6   4   3   1   2   3   29\n",
      "2      5  20  13   8   3  13   6  11   79\n",
      "3      1   7   5   9   4   3   5   3   37\n",
      "All    8  35  24  21  10  17  13  17  145\n",
      "GRADE  0   1   2   3   4   5   6   7  All\n",
      "Discn                                    \n",
      "1      1   4   2   0   1   0   1   0    9\n",
      "2      5  17  13   8   3  10   7   7   70\n",
      "3      2  14   9  13   6   7   5  10   66\n",
      "All    8  35  24  21  10  17  13  17  145\n",
      "GRADE   0   1   2   3   4   5   6   7  All\n",
      "FlipCl                                    \n",
      "1       5  17  14   7   4   6   4   7   64\n",
      "2       1   9   7   8   3   7   4   6   45\n",
      "3       2   9   3   6   3   4   5   4   36\n",
      "All     8  35  24  21  10  17  13  17  145\n",
      "GRADE   0   1   2   3   4   5   6   7  All\n",
      "CumGPA                                    \n",
      "1       4   4   4   2   0   0   1   2   17\n",
      "2       2  18   7   3   3   0   1   4   38\n",
      "3       0   5   4   2   2   4   5   3   25\n",
      "4       2   7   9   4   2   8   2   6   40\n",
      "5       0   1   0  10   3   5   4   2   25\n",
      "All     8  35  24  21  10  17  13  17  145\n",
      "GRADE   0   1   2   3   4   5   6   7  All\n",
      "ExpGPA                                    \n",
      "1       1   6   5   1   0   0   1   2   16\n",
      "2       5  10   6   2   5   3   4   3   38\n",
      "3       2  17   9  10   4   8   6   5   61\n",
      "4       0   2   4   8   1   6   2   7   30\n",
      "All     8  35  24  21  10  17  13  17  145\n"
     ]
    }
   ],
   "source": [
    "# Create the crosstab\n",
    "\n",
    "# This for loop creates a count of (for example) stdAges and how many of them have certain grades\n",
    "for col in df_split:\n",
    "    crt = pd.crosstab(df_split[col],df_grade, margins=True)\n",
    "    print(crt)"
   ]
  },
  {
   "cell_type": "code",
   "execution_count": 97,
   "id": "0540f733",
   "metadata": {},
   "outputs": [],
   "source": [
    "# Importing library to calculate Chi-Square\n",
    "\n",
    "# Want to test the hypotheses\n",
    "\n",
    "from scipy.stats import chi2_contingency"
   ]
  },
  {
   "cell_type": "code",
   "execution_count": 98,
   "id": "9704a28d",
   "metadata": {},
   "outputs": [],
   "source": [
    "# Calculate the p-value and accept or reject\n",
    "\n",
    "def is_correlated(x, y):\n",
    "    # Create a contingency table from the two columns in the DataFrame\n",
    "    ct = pd.crosstab(index=df_new[x], columns=df_new[y])\n",
    "    # Perform the Chi-Square test of independence on the contingency table\n",
    "    chi_sq_result = chi2_contingency(ct,)\n",
    "    # Extract the p-value from the Chi-Square test result\n",
    "    # Determine if the columns are correlated based on the p-value (threshold of 0.05)\n",
    "    p, x = chi_sq_result[1], 'correlated' if chi_sq_result[1] < 0.05 else 'not correlated'\n",
    "    # Return the p-value and correlation status\n",
    "    return p, x"
   ]
  },
  {
   "cell_type": "code",
   "execution_count": 99,
   "id": "199ffdf9",
   "metadata": {},
   "outputs": [
    {
     "name": "stdout",
     "output_type": "stream",
     "text": [
      "The p-value of stdAge is 0.010600848506691603, hence it is correlated with GRADE\n",
      "The p-value of Sex is 0.00045750000457329195, hence it is correlated with GRADE\n",
      "The p-value of GradHigh is 0.6817663396822627, hence it is not correlated with GRADE\n",
      "The p-value of Schip is 0.015834747164237634, hence it is correlated with GRADE\n",
      "The p-value of AddW is 0.20961702594270926, hence it is not correlated with GRADE\n",
      "The p-value of ArtSprt is 0.24308518222366843, hence it is not correlated with GRADE\n",
      "The p-value of Partner is 0.16955638640618678, hence it is not correlated with GRADE\n",
      "The p-value of TotSal is 0.39911401531970736, hence it is not correlated with GRADE\n",
      "The p-value of Transp is 0.1665676354886524, hence it is not correlated with GRADE\n",
      "The p-value of Acc is 0.2057332003852983, hence it is not correlated with GRADE\n",
      "The p-value of MotherEd is 0.03080207694420287, hence it is correlated with GRADE\n",
      "The p-value of FatherEd is 0.5089951338362353, hence it is not correlated with GRADE\n",
      "The p-value of Sib is 0.5329756078648576, hence it is not correlated with GRADE\n",
      "The p-value of ParStat is 0.6047709160966475, hence it is not correlated with GRADE\n",
      "The p-value of MotherOcc is 0.26979664011654786, hence it is not correlated with GRADE\n",
      "The p-value of FatherOcc is 0.24477348590406622, hence it is not correlated with GRADE\n",
      "The p-value of WeekStd is 0.06847137261211082, hence it is not correlated with GRADE\n",
      "The p-value of ReadFreqN is 0.13027437553380655, hence it is not correlated with GRADE\n",
      "The p-value of ReadFreqS is 0.17356814428604928, hence it is not correlated with GRADE\n",
      "The p-value of AttdConf is 0.28906751986000506, hence it is not correlated with GRADE\n",
      "The p-value of ProjImp is 0.02909458488002702, hence it is correlated with GRADE\n",
      "The p-value of AttdCls is 0.20040817679665862, hence it is not correlated with GRADE\n",
      "The p-value of PrepMid1 is 0.16082734986678968, hence it is not correlated with GRADE\n",
      "The p-value of PrepMid2 is 0.8559694677817582, hence it is not correlated with GRADE\n",
      "The p-value of TakeNote is 0.16912988084865957, hence it is not correlated with GRADE\n",
      "The p-value of Listn is 0.5000811824037479, hence it is not correlated with GRADE\n",
      "The p-value of Discn is 0.5978674561390447, hence it is not correlated with GRADE\n",
      "The p-value of FlipCl is 0.8755176596122789, hence it is not correlated with GRADE\n",
      "The p-value of CumGPA is 5.087929780266156e-05, hence it is correlated with GRADE\n",
      "The p-value of ExpGPA is 0.042591828681106676, hence it is correlated with GRADE\n"
     ]
    }
   ],
   "source": [
    "# Iterate over each column name in df_split\n",
    "for col in df_split:\n",
    "    # Call the function is_correlated to calculate correlation with 'GRADE'\n",
    "    p_value, corr = is_correlated(col, 'GRADE')\n",
    "    \n",
    "    # Print the results indicating correlation status\n",
    "    print(f'The p-value of {col} is {p_value}, hence it is {corr} with GRADE')"
   ]
  },
  {
   "cell_type": "code",
   "execution_count": 100,
   "id": "ae7971f3",
   "metadata": {
    "scrolled": true
   },
   "outputs": [
    {
     "name": "stdout",
     "output_type": "stream",
     "text": [
      "The p-value of stdAge is 0.010600848506691603, hence it is correlated with GRADE\n",
      "The p-value of Sex is 0.00045750000457329195, hence it is correlated with GRADE\n",
      "The p-value of GradHigh is 0.6817663396822627, hence it is not correlated with GRADE\n",
      "The p-value of Schip is 0.015834747164237634, hence it is correlated with GRADE\n",
      "The p-value of AddW is 0.20961702594270926, hence it is not correlated with GRADE\n",
      "The p-value of ArtSprt is 0.24308518222366843, hence it is not correlated with GRADE\n",
      "The p-value of Partner is 0.16955638640618678, hence it is not correlated with GRADE\n",
      "The p-value of TotSal is 0.39911401531970736, hence it is not correlated with GRADE\n",
      "The p-value of Transp is 0.1665676354886524, hence it is not correlated with GRADE\n",
      "The p-value of Acc is 0.2057332003852983, hence it is not correlated with GRADE\n",
      "The p-value of MotherEd is 0.03080207694420287, hence it is correlated with GRADE\n",
      "The p-value of FatherEd is 0.5089951338362353, hence it is not correlated with GRADE\n",
      "The p-value of Sib is 0.5329756078648576, hence it is not correlated with GRADE\n",
      "The p-value of ParStat is 0.6047709160966475, hence it is not correlated with GRADE\n",
      "The p-value of MotherOcc is 0.26979664011654786, hence it is not correlated with GRADE\n",
      "The p-value of FatherOcc is 0.24477348590406622, hence it is not correlated with GRADE\n",
      "The p-value of WeekStd is 0.06847137261211082, hence it is not correlated with GRADE\n",
      "The p-value of ReadFreqN is 0.13027437553380655, hence it is not correlated with GRADE\n",
      "The p-value of ReadFreqS is 0.17356814428604928, hence it is not correlated with GRADE\n",
      "The p-value of AttdConf is 0.28906751986000506, hence it is not correlated with GRADE\n",
      "The p-value of ProjImp is 0.02909458488002702, hence it is correlated with GRADE\n",
      "The p-value of AttdCls is 0.20040817679665862, hence it is not correlated with GRADE\n",
      "The p-value of PrepMid1 is 0.16082734986678968, hence it is not correlated with GRADE\n",
      "The p-value of PrepMid2 is 0.8559694677817582, hence it is not correlated with GRADE\n",
      "The p-value of TakeNote is 0.16912988084865957, hence it is not correlated with GRADE\n",
      "The p-value of Listn is 0.5000811824037479, hence it is not correlated with GRADE\n",
      "The p-value of Discn is 0.5978674561390447, hence it is not correlated with GRADE\n",
      "The p-value of FlipCl is 0.8755176596122789, hence it is not correlated with GRADE\n",
      "The p-value of CumGPA is 5.087929780266156e-05, hence it is correlated with GRADE\n",
      "The p-value of ExpGPA is 0.042591828681106676, hence it is correlated with GRADE\n"
     ]
    }
   ],
   "source": [
    "# Iterate over each column name in df_split\n",
    "for col in df_split:\n",
    "    # Call the function is_correlated to calculate correlation with 'GRADE'\n",
    "    p_value, corr = is_correlated(col, 'GRADE')\n",
    "    # Print the results indicating correlation status\n",
    "    print(f'The p-value of {col} is {p_value}, hence it is {corr} with GRADE')"
   ]
  },
  {
   "cell_type": "code",
   "execution_count": 101,
   "id": "fc9b08be",
   "metadata": {},
   "outputs": [
    {
     "name": "stdout",
     "output_type": "stream",
     "text": [
      "The p-value of stdAge is 0.010600848506691603, hence it is correlated with GRADE\n",
      "The p-value of Sex is 0.00045750000457329195, hence it is correlated with GRADE\n",
      "The p-value of Schip is 0.015834747164237634, hence it is correlated with GRADE\n",
      "The p-value of MotherEd is 0.03080207694420287, hence it is correlated with GRADE\n",
      "The p-value of ProjImp is 0.02909458488002702, hence it is correlated with GRADE\n",
      "The p-value of CumGPA is 5.087929780266156e-05, hence it is correlated with GRADE\n",
      "The p-value of ExpGPA is 0.042591828681106676, hence it is correlated with GRADE\n"
     ]
    }
   ],
   "source": [
    "# Iterate over each column name in df_split\n",
    "for col in df_split:\n",
    "    # Call the function is_correlated to calculate correlation with 'GRADE'\n",
    "    p_value, corr = is_correlated(col, 'GRADE')\n",
    "    \n",
    "    # Check if the p-value is less than 0.05\n",
    "    if p_value < 0.05:\n",
    "        # Print the results indicating significant correlation\n",
    "        print(f'The p-value of {col} is {p_value}, hence it is {corr} with GRADE')\n",
    "    else:\n",
    "        # Skip to the next iteration if p-value >= 0.05\n",
    "        continue"
   ]
  },
  {
   "cell_type": "markdown",
   "id": "e24bee80",
   "metadata": {},
   "source": [
    "# Interpreting results from the correlation above\n",
    "\n",
    "There is a correlation between [Student Age; Sex; Scholarship; Mother Education; Project Impact; Cumulative GPA; Expected CGPA; and Course ID ] and GRADE of students\n",
    "\n",
    "From the p-values:\n",
    "\n",
    "1. Cumulative GPA has the most impact with p-value (5.087929780266156e-05)\n",
    "\n",
    "2. If we were to consider other features apart from CGPA, then the most impactful would be Sex followed by Student Age then Scholarship\n",
    "\n",
    "3. The feature with least impact is (Expected GPA) is Mother Education\n",
    "\n",
    "4. Spouse and participating in arts and sports does not have any significant impact on the GRADE"
   ]
  },
  {
   "cell_type": "code",
   "execution_count": 102,
   "id": "16a56091",
   "metadata": {
    "scrolled": false
   },
   "outputs": [
    {
     "data": {
      "text/html": [
       "<div>\n",
       "<style scoped>\n",
       "    .dataframe tbody tr th:only-of-type {\n",
       "        vertical-align: middle;\n",
       "    }\n",
       "\n",
       "    .dataframe tbody tr th {\n",
       "        vertical-align: top;\n",
       "    }\n",
       "\n",
       "    .dataframe thead th {\n",
       "        text-align: right;\n",
       "    }\n",
       "</style>\n",
       "<table border=\"1\" class=\"dataframe\">\n",
       "  <thead>\n",
       "    <tr style=\"text-align: right;\">\n",
       "      <th></th>\n",
       "      <th>stdAge</th>\n",
       "      <th>Sex</th>\n",
       "      <th>GradHigh</th>\n",
       "      <th>Schip</th>\n",
       "      <th>AddW</th>\n",
       "      <th>ArtSprt</th>\n",
       "      <th>Partner</th>\n",
       "      <th>TotSal</th>\n",
       "      <th>Transp</th>\n",
       "      <th>Acc</th>\n",
       "      <th>...</th>\n",
       "      <th>ProjImp</th>\n",
       "      <th>AttdCls</th>\n",
       "      <th>PrepMid1</th>\n",
       "      <th>PrepMid2</th>\n",
       "      <th>TakeNote</th>\n",
       "      <th>Listn</th>\n",
       "      <th>Discn</th>\n",
       "      <th>FlipCl</th>\n",
       "      <th>CumGPA</th>\n",
       "      <th>ExpGPA</th>\n",
       "    </tr>\n",
       "  </thead>\n",
       "  <tbody>\n",
       "    <tr>\n",
       "      <th>0</th>\n",
       "      <td>2</td>\n",
       "      <td>2</td>\n",
       "      <td>3</td>\n",
       "      <td>3</td>\n",
       "      <td>1</td>\n",
       "      <td>2</td>\n",
       "      <td>2</td>\n",
       "      <td>1</td>\n",
       "      <td>1</td>\n",
       "      <td>1</td>\n",
       "      <td>...</td>\n",
       "      <td>1</td>\n",
       "      <td>1</td>\n",
       "      <td>1</td>\n",
       "      <td>1</td>\n",
       "      <td>3</td>\n",
       "      <td>2</td>\n",
       "      <td>1</td>\n",
       "      <td>2</td>\n",
       "      <td>1</td>\n",
       "      <td>1</td>\n",
       "    </tr>\n",
       "    <tr>\n",
       "      <th>1</th>\n",
       "      <td>2</td>\n",
       "      <td>2</td>\n",
       "      <td>3</td>\n",
       "      <td>3</td>\n",
       "      <td>1</td>\n",
       "      <td>2</td>\n",
       "      <td>2</td>\n",
       "      <td>1</td>\n",
       "      <td>1</td>\n",
       "      <td>1</td>\n",
       "      <td>...</td>\n",
       "      <td>1</td>\n",
       "      <td>1</td>\n",
       "      <td>1</td>\n",
       "      <td>1</td>\n",
       "      <td>3</td>\n",
       "      <td>2</td>\n",
       "      <td>3</td>\n",
       "      <td>2</td>\n",
       "      <td>2</td>\n",
       "      <td>3</td>\n",
       "    </tr>\n",
       "    <tr>\n",
       "      <th>2</th>\n",
       "      <td>2</td>\n",
       "      <td>2</td>\n",
       "      <td>2</td>\n",
       "      <td>3</td>\n",
       "      <td>2</td>\n",
       "      <td>2</td>\n",
       "      <td>2</td>\n",
       "      <td>2</td>\n",
       "      <td>4</td>\n",
       "      <td>2</td>\n",
       "      <td>...</td>\n",
       "      <td>1</td>\n",
       "      <td>1</td>\n",
       "      <td>1</td>\n",
       "      <td>1</td>\n",
       "      <td>2</td>\n",
       "      <td>2</td>\n",
       "      <td>1</td>\n",
       "      <td>1</td>\n",
       "      <td>2</td>\n",
       "      <td>2</td>\n",
       "    </tr>\n",
       "    <tr>\n",
       "      <th>3</th>\n",
       "      <td>1</td>\n",
       "      <td>1</td>\n",
       "      <td>1</td>\n",
       "      <td>3</td>\n",
       "      <td>1</td>\n",
       "      <td>2</td>\n",
       "      <td>1</td>\n",
       "      <td>2</td>\n",
       "      <td>1</td>\n",
       "      <td>2</td>\n",
       "      <td>...</td>\n",
       "      <td>1</td>\n",
       "      <td>1</td>\n",
       "      <td>1</td>\n",
       "      <td>2</td>\n",
       "      <td>3</td>\n",
       "      <td>2</td>\n",
       "      <td>2</td>\n",
       "      <td>1</td>\n",
       "      <td>3</td>\n",
       "      <td>2</td>\n",
       "    </tr>\n",
       "    <tr>\n",
       "      <th>4</th>\n",
       "      <td>2</td>\n",
       "      <td>2</td>\n",
       "      <td>1</td>\n",
       "      <td>3</td>\n",
       "      <td>2</td>\n",
       "      <td>2</td>\n",
       "      <td>1</td>\n",
       "      <td>3</td>\n",
       "      <td>1</td>\n",
       "      <td>4</td>\n",
       "      <td>...</td>\n",
       "      <td>1</td>\n",
       "      <td>1</td>\n",
       "      <td>2</td>\n",
       "      <td>1</td>\n",
       "      <td>2</td>\n",
       "      <td>2</td>\n",
       "      <td>2</td>\n",
       "      <td>1</td>\n",
       "      <td>2</td>\n",
       "      <td>2</td>\n",
       "    </tr>\n",
       "  </tbody>\n",
       "</table>\n",
       "<p>5 rows × 30 columns</p>\n",
       "</div>"
      ],
      "text/plain": [
       "   stdAge  Sex  GradHigh  Schip  AddW  ArtSprt  Partner  TotSal  Transp  Acc  \\\n",
       "0       2    2         3      3     1        2        2       1       1    1   \n",
       "1       2    2         3      3     1        2        2       1       1    1   \n",
       "2       2    2         2      3     2        2        2       2       4    2   \n",
       "3       1    1         1      3     1        2        1       2       1    2   \n",
       "4       2    2         1      3     2        2        1       3       1    4   \n",
       "\n",
       "   ...  ProjImp  AttdCls  PrepMid1  PrepMid2  TakeNote  Listn  Discn  FlipCl  \\\n",
       "0  ...        1        1         1         1         3      2      1       2   \n",
       "1  ...        1        1         1         1         3      2      3       2   \n",
       "2  ...        1        1         1         1         2      2      1       1   \n",
       "3  ...        1        1         1         2         3      2      2       1   \n",
       "4  ...        1        1         2         1         2      2      2       1   \n",
       "\n",
       "   CumGPA  ExpGPA  \n",
       "0       1       1  \n",
       "1       2       3  \n",
       "2       2       2  \n",
       "3       3       2  \n",
       "4       2       2  \n",
       "\n",
       "[5 rows x 30 columns]"
      ]
     },
     "execution_count": 102,
     "metadata": {},
     "output_type": "execute_result"
    }
   ],
   "source": [
    "df_split.head()"
   ]
  },
  {
   "cell_type": "code",
   "execution_count": 103,
   "id": "bf4cf5ea",
   "metadata": {},
   "outputs": [
    {
     "data": {
      "text/plain": [
       "dtype('int64')"
      ]
     },
     "execution_count": 103,
     "metadata": {},
     "output_type": "execute_result"
    }
   ],
   "source": [
    "df_grade.dtypes"
   ]
  },
  {
   "cell_type": "code",
   "execution_count": 104,
   "id": "7fca9858",
   "metadata": {},
   "outputs": [],
   "source": [
    "#plt.scatter(df_grade, df_split, marker='*', color='blue')"
   ]
  },
  {
   "cell_type": "code",
   "execution_count": 105,
   "id": "9bd60dc2",
   "metadata": {},
   "outputs": [],
   "source": [
    "# Train Test and Split"
   ]
  },
  {
   "cell_type": "code",
   "execution_count": 106,
   "id": "26121c60",
   "metadata": {},
   "outputs": [],
   "source": [
    "#from sklearn.model_selection import train_test_split"
   ]
  },
  {
   "cell_type": "code",
   "execution_count": 107,
   "id": "caa4b33b",
   "metadata": {},
   "outputs": [],
   "source": [
    "#X_train, X_test, y_train, y_test = train_test_split(df_split, df_grade, test_size=0.20, random_state=42)"
   ]
  },
  {
   "cell_type": "code",
   "execution_count": 108,
   "id": "f1541a4b",
   "metadata": {},
   "outputs": [],
   "source": [
    "# Training model"
   ]
  },
  {
   "cell_type": "code",
   "execution_count": 109,
   "id": "d338b5f3",
   "metadata": {},
   "outputs": [],
   "source": [
    "#from sklearn.linear_model import LogisticRegression"
   ]
  },
  {
   "cell_type": "code",
   "execution_count": 110,
   "id": "d176ef78",
   "metadata": {},
   "outputs": [],
   "source": [
    "#lr = LogisticRegression()\n",
    "#lr.fit(X_train, y_train)"
   ]
  },
  {
   "cell_type": "code",
   "execution_count": 111,
   "id": "d6f0676b",
   "metadata": {},
   "outputs": [],
   "source": [
    "#lr.predict(X_test)"
   ]
  },
  {
   "cell_type": "code",
   "execution_count": 112,
   "id": "98ac2c84",
   "metadata": {},
   "outputs": [],
   "source": [
    "#lr.score(X_test, y_test)"
   ]
  },
  {
   "cell_type": "markdown",
   "id": "fbc56dbb",
   "metadata": {},
   "source": [
    "# Model Tuning\n",
    "\n",
    "This is a poor score. The model underfitted. I will try the following to tune the model:\n",
    "\n",
    "1. Standard Scaler\n",
    "2. L1 or L2 regularization\n",
    "    "
   ]
  },
  {
   "cell_type": "code",
   "execution_count": 113,
   "id": "cb123433",
   "metadata": {},
   "outputs": [
    {
     "data": {
      "image/png": "[encoded data removed]",
      "text/plain": [
       "<Figure size 1000x500 with 1 Axes>"
      ]
     },
     "metadata": {
      "needs_background": "light"
     },
     "output_type": "display_data"
    }
   ],
   "source": [
    "# Feature Scaling using \n",
    "plt.figure(figsize=(10, 5))\n",
    "sns.histplot(df_split, kde=True)\n",
    "plt.title(\"Histogram with KDE\")\n",
    "plt.show()"
   ]
  },
  {
   "cell_type": "code",
   "execution_count": 114,
   "id": "776bfef6",
   "metadata": {},
   "outputs": [],
   "source": [
    "# The features do not follow Gaussian distribution, hence I will use Normalization for feature scaling\n",
    "# Feature scaling is needed as the feature values for example male is 2 but female is 1 assumes male has more weight than female"
   ]
  },
  {
   "cell_type": "markdown",
   "id": "a42ca10a",
   "metadata": {},
   "source": [
    "# Normalization of features\n",
    "\n"
   ]
  },
  {
   "cell_type": "code",
   "execution_count": 115,
   "id": "c8ac1e62",
   "metadata": {},
   "outputs": [],
   "source": [
    "from sklearn.preprocessing import MinMaxScaler"
   ]
  },
  {
   "cell_type": "code",
   "execution_count": 116,
   "id": "918d2984",
   "metadata": {},
   "outputs": [],
   "source": [
    "scaler = MinMaxScaler()"
   ]
  },
  {
   "cell_type": "code",
   "execution_count": 117,
   "id": "1b675c5a",
   "metadata": {},
   "outputs": [],
   "source": [
    "scaled_df = scaler.fit_transform(df_split)"
   ]
  },
  {
   "cell_type": "code",
   "execution_count": 118,
   "id": "2efb58dd",
   "metadata": {},
   "outputs": [
    {
     "data": {
      "text/html": [
       "<div>\n",
       "<style scoped>\n",
       "    .dataframe tbody tr th:only-of-type {\n",
       "        vertical-align: middle;\n",
       "    }\n",
       "\n",
       "    .dataframe tbody tr th {\n",
       "        vertical-align: top;\n",
       "    }\n",
       "\n",
       "    .dataframe thead th {\n",
       "        text-align: right;\n",
       "    }\n",
       "</style>\n",
       "<table border=\"1\" class=\"dataframe\">\n",
       "  <thead>\n",
       "    <tr style=\"text-align: right;\">\n",
       "      <th></th>\n",
       "      <th>stdAge</th>\n",
       "      <th>Sex</th>\n",
       "      <th>GradHigh</th>\n",
       "      <th>Schip</th>\n",
       "      <th>AddW</th>\n",
       "      <th>ArtSprt</th>\n",
       "      <th>Partner</th>\n",
       "      <th>TotSal</th>\n",
       "      <th>Transp</th>\n",
       "      <th>Acc</th>\n",
       "      <th>...</th>\n",
       "      <th>ProjImp</th>\n",
       "      <th>AttdCls</th>\n",
       "      <th>PrepMid1</th>\n",
       "      <th>PrepMid2</th>\n",
       "      <th>TakeNote</th>\n",
       "      <th>Listn</th>\n",
       "      <th>Discn</th>\n",
       "      <th>FlipCl</th>\n",
       "      <th>CumGPA</th>\n",
       "      <th>ExpGPA</th>\n",
       "    </tr>\n",
       "  </thead>\n",
       "  <tbody>\n",
       "    <tr>\n",
       "      <th>0</th>\n",
       "      <td>0.5</td>\n",
       "      <td>1.0</td>\n",
       "      <td>1.0</td>\n",
       "      <td>0.5</td>\n",
       "      <td>0.0</td>\n",
       "      <td>1.0</td>\n",
       "      <td>1.0</td>\n",
       "      <td>0.00</td>\n",
       "      <td>0.0</td>\n",
       "      <td>0.000000</td>\n",
       "      <td>...</td>\n",
       "      <td>0.0</td>\n",
       "      <td>0.0</td>\n",
       "      <td>0.0</td>\n",
       "      <td>0.0</td>\n",
       "      <td>1.0</td>\n",
       "      <td>0.5</td>\n",
       "      <td>0.0</td>\n",
       "      <td>0.5</td>\n",
       "      <td>0.00</td>\n",
       "      <td>0.000000</td>\n",
       "    </tr>\n",
       "    <tr>\n",
       "      <th>1</th>\n",
       "      <td>0.5</td>\n",
       "      <td>1.0</td>\n",
       "      <td>1.0</td>\n",
       "      <td>0.5</td>\n",
       "      <td>0.0</td>\n",
       "      <td>1.0</td>\n",
       "      <td>1.0</td>\n",
       "      <td>0.00</td>\n",
       "      <td>0.0</td>\n",
       "      <td>0.000000</td>\n",
       "      <td>...</td>\n",
       "      <td>0.0</td>\n",
       "      <td>0.0</td>\n",
       "      <td>0.0</td>\n",
       "      <td>0.0</td>\n",
       "      <td>1.0</td>\n",
       "      <td>0.5</td>\n",
       "      <td>1.0</td>\n",
       "      <td>0.5</td>\n",
       "      <td>0.25</td>\n",
       "      <td>0.666667</td>\n",
       "    </tr>\n",
       "    <tr>\n",
       "      <th>2</th>\n",
       "      <td>0.5</td>\n",
       "      <td>1.0</td>\n",
       "      <td>0.5</td>\n",
       "      <td>0.5</td>\n",
       "      <td>1.0</td>\n",
       "      <td>1.0</td>\n",
       "      <td>1.0</td>\n",
       "      <td>0.25</td>\n",
       "      <td>1.0</td>\n",
       "      <td>0.333333</td>\n",
       "      <td>...</td>\n",
       "      <td>0.0</td>\n",
       "      <td>0.0</td>\n",
       "      <td>0.0</td>\n",
       "      <td>0.0</td>\n",
       "      <td>0.5</td>\n",
       "      <td>0.5</td>\n",
       "      <td>0.0</td>\n",
       "      <td>0.0</td>\n",
       "      <td>0.25</td>\n",
       "      <td>0.333333</td>\n",
       "    </tr>\n",
       "    <tr>\n",
       "      <th>3</th>\n",
       "      <td>0.0</td>\n",
       "      <td>0.0</td>\n",
       "      <td>0.0</td>\n",
       "      <td>0.5</td>\n",
       "      <td>0.0</td>\n",
       "      <td>1.0</td>\n",
       "      <td>0.0</td>\n",
       "      <td>0.25</td>\n",
       "      <td>0.0</td>\n",
       "      <td>0.333333</td>\n",
       "      <td>...</td>\n",
       "      <td>0.0</td>\n",
       "      <td>0.0</td>\n",
       "      <td>0.0</td>\n",
       "      <td>0.5</td>\n",
       "      <td>1.0</td>\n",
       "      <td>0.5</td>\n",
       "      <td>0.5</td>\n",
       "      <td>0.0</td>\n",
       "      <td>0.50</td>\n",
       "      <td>0.333333</td>\n",
       "    </tr>\n",
       "    <tr>\n",
       "      <th>4</th>\n",
       "      <td>0.5</td>\n",
       "      <td>1.0</td>\n",
       "      <td>0.0</td>\n",
       "      <td>0.5</td>\n",
       "      <td>1.0</td>\n",
       "      <td>1.0</td>\n",
       "      <td>0.0</td>\n",
       "      <td>0.50</td>\n",
       "      <td>0.0</td>\n",
       "      <td>1.000000</td>\n",
       "      <td>...</td>\n",
       "      <td>0.0</td>\n",
       "      <td>0.0</td>\n",
       "      <td>0.5</td>\n",
       "      <td>0.0</td>\n",
       "      <td>0.5</td>\n",
       "      <td>0.5</td>\n",
       "      <td>0.5</td>\n",
       "      <td>0.0</td>\n",
       "      <td>0.25</td>\n",
       "      <td>0.333333</td>\n",
       "    </tr>\n",
       "  </tbody>\n",
       "</table>\n",
       "<p>5 rows × 30 columns</p>\n",
       "</div>"
      ],
      "text/plain": [
       "   stdAge  Sex  GradHigh  Schip  AddW  ArtSprt  Partner  TotSal  Transp  \\\n",
       "0     0.5  1.0       1.0    0.5   0.0      1.0      1.0    0.00     0.0   \n",
       "1     0.5  1.0       1.0    0.5   0.0      1.0      1.0    0.00     0.0   \n",
       "2     0.5  1.0       0.5    0.5   1.0      1.0      1.0    0.25     1.0   \n",
       "3     0.0  0.0       0.0    0.5   0.0      1.0      0.0    0.25     0.0   \n",
       "4     0.5  1.0       0.0    0.5   1.0      1.0      0.0    0.50     0.0   \n",
       "\n",
       "        Acc  ...  ProjImp  AttdCls  PrepMid1  PrepMid2  TakeNote  Listn  \\\n",
       "0  0.000000  ...      0.0      0.0       0.0       0.0       1.0    0.5   \n",
       "1  0.000000  ...      0.0      0.0       0.0       0.0       1.0    0.5   \n",
       "2  0.333333  ...      0.0      0.0       0.0       0.0       0.5    0.5   \n",
       "3  0.333333  ...      0.0      0.0       0.0       0.5       1.0    0.5   \n",
       "4  1.000000  ...      0.0      0.0       0.5       0.0       0.5    0.5   \n",
       "\n",
       "   Discn  FlipCl  CumGPA    ExpGPA  \n",
       "0    0.0     0.5    0.00  0.000000  \n",
       "1    1.0     0.5    0.25  0.666667  \n",
       "2    0.0     0.0    0.25  0.333333  \n",
       "3    0.5     0.0    0.50  0.333333  \n",
       "4    0.5     0.0    0.25  0.333333  \n",
       "\n",
       "[5 rows x 30 columns]"
      ]
     },
     "execution_count": 118,
     "metadata": {},
     "output_type": "execute_result"
    }
   ],
   "source": [
    "# Convert the scaled data back to a DataFrame\n",
    "scaled_df = pd.DataFrame(scaled_df, columns=df_split.columns)\n",
    "scaled_df.head()"
   ]
  },
  {
   "cell_type": "code",
   "execution_count": 119,
   "id": "29250e8b",
   "metadata": {},
   "outputs": [],
   "source": [
    "from sklearn.model_selection import train_test_split"
   ]
  },
  {
   "cell_type": "code",
   "execution_count": 120,
   "id": "e9b8a301",
   "metadata": {},
   "outputs": [],
   "source": [
    "X_train, X_test, y_train, y_test = train_test_split(scaled_df, df_grade, test_size=0.20, random_state=42)"
   ]
  },
  {
   "cell_type": "code",
   "execution_count": 121,
   "id": "d4c1f234",
   "metadata": {},
   "outputs": [],
   "source": [
    "from sklearn.linear_model import LogisticRegression"
   ]
  },
  {
   "cell_type": "code",
   "execution_count": 122,
   "id": "aca7e1f5",
   "metadata": {},
   "outputs": [
    {
     "data": {
      "text/html": [
       "<style>#sk-container-id-4 {color: black;}#sk-container-id-4 pre{padding: 0;}#sk-container-id-4 div.sk-toggleable {background-color: white;}#sk-container-id-4 label.sk-toggleable__label {cursor: pointer;display: block;width: 100%;margin-bottom: 0;padding: 0.3em;box-sizing: border-box;text-align: center;}#sk-container-id-4 label.sk-toggleable__label-arrow:before {content: \"▸\";float: left;margin-right: 0.25em;color: #696969;}#sk-container-id-4 label.sk-toggleable__label-arrow:hover:before {color: black;}#sk-container-id-4 div.sk-estimator:hover label.sk-toggleable__label-arrow:before {color: black;}#sk-container-id-4 div.sk-toggleable__content {max-height: 0;max-width: 0;overflow: hidden;text-align: left;background-color: #f0f8ff;}#sk-container-id-4 div.sk-toggleable__content pre {margin: 0.2em;color: black;border-radius: 0.25em;background-color: #f0f8ff;}#sk-container-id-4 input.sk-toggleable__control:checked~div.sk-toggleable__content {max-height: 200px;max-width: 100%;overflow: auto;}#sk-container-id-4 input.sk-toggleable__control:checked~label.sk-toggleable__label-arrow:before {content: \"▾\";}#sk-container-id-4 div.sk-estimator input.sk-toggleable__control:checked~label.sk-toggleable__label {background-color: #d4ebff;}#sk-container-id-4 div.sk-label input.sk-toggleable__control:checked~label.sk-toggleable__label {background-color: #d4ebff;}#sk-container-id-4 input.sk-hidden--visually {border: 0;clip: rect(1px 1px 1px 1px);clip: rect(1px, 1px, 1px, 1px);height: 1px;margin: -1px;overflow: hidden;padding: 0;position: absolute;width: 1px;}#sk-container-id-4 div.sk-estimator {font-family: monospace;background-color: #f0f8ff;border: 1px dotted black;border-radius: 0.25em;box-sizing: border-box;margin-bottom: 0.5em;}#sk-container-id-4 div.sk-estimator:hover {background-color: #d4ebff;}#sk-container-id-4 div.sk-parallel-item::after {content: \"\";width: 100%;border-bottom: 1px solid gray;flex-grow: 1;}#sk-container-id-4 div.sk-label:hover label.sk-toggleable__label {background-color: #d4ebff;}#sk-container-id-4 div.sk-serial::before {content: \"\";position: absolute;border-left: 1px solid gray;box-sizing: border-box;top: 0;bottom: 0;left: 50%;z-index: 0;}#sk-container-id-4 div.sk-serial {display: flex;flex-direction: column;align-items: center;background-color: white;padding-right: 0.2em;padding-left: 0.2em;position: relative;}#sk-container-id-4 div.sk-item {position: relative;z-index: 1;}#sk-container-id-4 div.sk-parallel {display: flex;align-items: stretch;justify-content: center;background-color: white;position: relative;}#sk-container-id-4 div.sk-item::before, #sk-container-id-4 div.sk-parallel-item::before {content: \"\";position: absolute;border-left: 1px solid gray;box-sizing: border-box;top: 0;bottom: 0;left: 50%;z-index: -1;}#sk-container-id-4 div.sk-parallel-item {display: flex;flex-direction: column;z-index: 1;position: relative;background-color: white;}#sk-container-id-4 div.sk-parallel-item:first-child::after {align-self: flex-end;width: 50%;}#sk-container-id-4 div.sk-parallel-item:last-child::after {align-self: flex-start;width: 50%;}#sk-container-id-4 div.sk-parallel-item:only-child::after {width: 0;}#sk-container-id-4 div.sk-dashed-wrapped {border: 1px dashed gray;margin: 0 0.4em 0.5em 0.4em;box-sizing: border-box;padding-bottom: 0.4em;background-color: white;}#sk-container-id-4 div.sk-label label {font-family: monospace;font-weight: bold;display: inline-block;line-height: 1.2em;}#sk-container-id-4 div.sk-label-container {text-align: center;}#sk-container-id-4 div.sk-container {/* jupyter's `normalize.less` sets `[hidden] { display: none; }` but bootstrap.min.css set `[hidden] { display: none !important; }` so we also need the `!important` here to be able to override the default hidden behavior on the sphinx rendered scikit-learn.org. See: https://github.com/scikit-learn/scikit-learn/issues/21755 */display: inline-block !important;position: relative;}#sk-container-id-4 div.sk-text-repr-fallback {display: none;}</style><div id=\"sk-container-id-4\" class=\"sk-top-container\"><div class=\"sk-text-repr-fallback\"><pre>LogisticRegression()</pre><b>In a Jupyter environment, please rerun this cell to show the HTML representation or trust the notebook. <br />On GitHub, the HTML representation is unable to render, please try loading this page with nbviewer.org.</b></div><div class=\"sk-container\" hidden><div class=\"sk-item\"><div class=\"sk-estimator sk-toggleable\"><input class=\"sk-toggleable__control sk-hidden--visually\" id=\"sk-estimator-id-4\" type=\"checkbox\" checked><label for=\"sk-estimator-id-4\" class=\"sk-toggleable__label sk-toggleable__label-arrow\">LogisticRegression</label><div class=\"sk-toggleable__content\"><pre>LogisticRegression()</pre></div></div></div></div></div>"
      ],
      "text/plain": [
       "LogisticRegression()"
      ]
     },
     "execution_count": 122,
     "metadata": {},
     "output_type": "execute_result"
    }
   ],
   "source": [
    "normlr = LogisticRegression()\n",
    "normlr.fit(X_train, y_train)"
   ]
  },
  {
   "cell_type": "code",
   "execution_count": 146,
   "id": "92ebe0c4",
   "metadata": {},
   "outputs": [
    {
     "data": {
      "text/plain": [
       "array([1, 1, 1, 1, 2, 2, 1, 2, 3, 1, 6, 3, 1, 1, 3, 5, 3, 3, 2, 1, 3, 1,\n",
       "       7, 3, 3, 7, 5, 7, 2])"
      ]
     },
     "execution_count": 146,
     "metadata": {},
     "output_type": "execute_result"
    }
   ],
   "source": [
    "y_pred = normlr.predict(X_test)\n",
    "y_pred"
   ]
  },
  {
   "cell_type": "code",
   "execution_count": 147,
   "id": "6cee9793",
   "metadata": {},
   "outputs": [
    {
     "data": {
      "text/plain": [
       "0.1724137931034483"
      ]
     },
     "execution_count": 147,
     "metadata": {},
     "output_type": "execute_result"
    }
   ],
   "source": [
    "normlr.score(X_test, y_test)"
   ]
  },
  {
   "cell_type": "markdown",
   "id": "1b94ffe6",
   "metadata": {},
   "source": [
    "# Update\n",
    "\n",
    "This is a little better. After Normalization, the score increased from 0.13 to 0.17\n",
    "\n",
    "Let's try L2 regularization"
   ]
  },
  {
   "cell_type": "code",
   "execution_count": 161,
   "id": "3e807a87",
   "metadata": {},
   "outputs": [
    {
     "data": {
      "text/html": [
       "<style>#sk-container-id-18 {color: black;}#sk-container-id-18 pre{padding: 0;}#sk-container-id-18 div.sk-toggleable {background-color: white;}#sk-container-id-18 label.sk-toggleable__label {cursor: pointer;display: block;width: 100%;margin-bottom: 0;padding: 0.3em;box-sizing: border-box;text-align: center;}#sk-container-id-18 label.sk-toggleable__label-arrow:before {content: \"▸\";float: left;margin-right: 0.25em;color: #696969;}#sk-container-id-18 label.sk-toggleable__label-arrow:hover:before {color: black;}#sk-container-id-18 div.sk-estimator:hover label.sk-toggleable__label-arrow:before {color: black;}#sk-container-id-18 div.sk-toggleable__content {max-height: 0;max-width: 0;overflow: hidden;text-align: left;background-color: #f0f8ff;}#sk-container-id-18 div.sk-toggleable__content pre {margin: 0.2em;color: black;border-radius: 0.25em;background-color: #f0f8ff;}#sk-container-id-18 input.sk-toggleable__control:checked~div.sk-toggleable__content {max-height: 200px;max-width: 100%;overflow: auto;}#sk-container-id-18 input.sk-toggleable__control:checked~label.sk-toggleable__label-arrow:before {content: \"▾\";}#sk-container-id-18 div.sk-estimator input.sk-toggleable__control:checked~label.sk-toggleable__label {background-color: #d4ebff;}#sk-container-id-18 div.sk-label input.sk-toggleable__control:checked~label.sk-toggleable__label {background-color: #d4ebff;}#sk-container-id-18 input.sk-hidden--visually {border: 0;clip: rect(1px 1px 1px 1px);clip: rect(1px, 1px, 1px, 1px);height: 1px;margin: -1px;overflow: hidden;padding: 0;position: absolute;width: 1px;}#sk-container-id-18 div.sk-estimator {font-family: monospace;background-color: #f0f8ff;border: 1px dotted black;border-radius: 0.25em;box-sizing: border-box;margin-bottom: 0.5em;}#sk-container-id-18 div.sk-estimator:hover {background-color: #d4ebff;}#sk-container-id-18 div.sk-parallel-item::after {content: \"\";width: 100%;border-bottom: 1px solid gray;flex-grow: 1;}#sk-container-id-18 div.sk-label:hover label.sk-toggleable__label {background-color: #d4ebff;}#sk-container-id-18 div.sk-serial::before {content: \"\";position: absolute;border-left: 1px solid gray;box-sizing: border-box;top: 0;bottom: 0;left: 50%;z-index: 0;}#sk-container-id-18 div.sk-serial {display: flex;flex-direction: column;align-items: center;background-color: white;padding-right: 0.2em;padding-left: 0.2em;position: relative;}#sk-container-id-18 div.sk-item {position: relative;z-index: 1;}#sk-container-id-18 div.sk-parallel {display: flex;align-items: stretch;justify-content: center;background-color: white;position: relative;}#sk-container-id-18 div.sk-item::before, #sk-container-id-18 div.sk-parallel-item::before {content: \"\";position: absolute;border-left: 1px solid gray;box-sizing: border-box;top: 0;bottom: 0;left: 50%;z-index: -1;}#sk-container-id-18 div.sk-parallel-item {display: flex;flex-direction: column;z-index: 1;position: relative;background-color: white;}#sk-container-id-18 div.sk-parallel-item:first-child::after {align-self: flex-end;width: 50%;}#sk-container-id-18 div.sk-parallel-item:last-child::after {align-self: flex-start;width: 50%;}#sk-container-id-18 div.sk-parallel-item:only-child::after {width: 0;}#sk-container-id-18 div.sk-dashed-wrapped {border: 1px dashed gray;margin: 0 0.4em 0.5em 0.4em;box-sizing: border-box;padding-bottom: 0.4em;background-color: white;}#sk-container-id-18 div.sk-label label {font-family: monospace;font-weight: bold;display: inline-block;line-height: 1.2em;}#sk-container-id-18 div.sk-label-container {text-align: center;}#sk-container-id-18 div.sk-container {/* jupyter's `normalize.less` sets `[hidden] { display: none; }` but bootstrap.min.css set `[hidden] { display: none !important; }` so we also need the `!important` here to be able to override the default hidden behavior on the sphinx rendered scikit-learn.org. See: https://github.com/scikit-learn/scikit-learn/issues/21755 */display: inline-block !important;position: relative;}#sk-container-id-18 div.sk-text-repr-fallback {display: none;}</style><div id=\"sk-container-id-18\" class=\"sk-top-container\"><div class=\"sk-text-repr-fallback\"><pre>Ridge(alpha=500, max_iter=100, tol=0.1)</pre><b>In a Jupyter environment, please rerun this cell to show the HTML representation or trust the notebook. <br />On GitHub, the HTML representation is unable to render, please try loading this page with nbviewer.org.</b></div><div class=\"sk-container\" hidden><div class=\"sk-item\"><div class=\"sk-estimator sk-toggleable\"><input class=\"sk-toggleable__control sk-hidden--visually\" id=\"sk-estimator-id-18\" type=\"checkbox\" checked><label for=\"sk-estimator-id-18\" class=\"sk-toggleable__label sk-toggleable__label-arrow\">Ridge</label><div class=\"sk-toggleable__content\"><pre>Ridge(alpha=500, max_iter=100, tol=0.1)</pre></div></div></div></div></div>"
      ],
      "text/plain": [
       "Ridge(alpha=500, max_iter=100, tol=0.1)"
      ]
     },
     "execution_count": 161,
     "metadata": {},
     "output_type": "execute_result"
    }
   ],
   "source": [
    "from sklearn.linear_model import Ridge\n",
    "ridge_reg= Ridge(alpha=500, max_iter=100, tol=0.1)\n",
    "ridge_reg.fit(X_train,y_train)"
   ]
  },
  {
   "cell_type": "code",
   "execution_count": 162,
   "id": "78fb4557",
   "metadata": {
    "scrolled": true
   },
   "outputs": [
    {
     "data": {
      "text/plain": [
       "0.03717886866389053"
      ]
     },
     "execution_count": 162,
     "metadata": {},
     "output_type": "execute_result"
    }
   ],
   "source": [
    "ridge_reg.score(X_train,y_train)"
   ]
  },
  {
   "cell_type": "code",
   "execution_count": 163,
   "id": "ccafda3b",
   "metadata": {},
   "outputs": [
    {
     "data": {
      "text/plain": [
       "0.020037679934113983"
      ]
     },
     "execution_count": 163,
     "metadata": {},
     "output_type": "execute_result"
    }
   ],
   "source": [
    "ridge_reg.score(X_test, y_test)"
   ]
  },
  {
   "cell_type": "code",
   "execution_count": 156,
   "id": "cf711905",
   "metadata": {},
   "outputs": [
    {
     "data": {
      "text/plain": [
       "-1.1078634247284023"
      ]
     },
     "execution_count": 156,
     "metadata": {},
     "output_type": "execute_result"
    }
   ],
   "source": [
    "from sklearn.metrics import mean_squared_error, r2_score\n",
    "mse = mean_squared_error(y_test, y_pred)\n",
    "r2 = r2_score(y_test, y_pred)\n",
    "r2"
   ]
  },
  {
   "cell_type": "code",
   "execution_count": null,
   "id": "5a9a70cb",
   "metadata": {},
   "outputs": [],
   "source": []
  },
  {
   "cell_type": "code",
   "execution_count": null,
   "id": "a9aef150",
   "metadata": {},
   "outputs": [],
   "source": []
  },
  {
   "cell_type": "code",
   "execution_count": null,
   "id": "1b7ba86a",
   "metadata": {},
   "outputs": [],
   "source": []
  },
  {
   "cell_type": "code",
   "execution_count": null,
   "id": "710bbf0c",
   "metadata": {},
   "outputs": [],
   "source": []
  },
  {
   "cell_type": "code",
   "execution_count": null,
   "id": "48cef443",
   "metadata": {},
   "outputs": [],
   "source": []
  }
 ],
 "metadata": {
  "kernelspec": {
   "display_name": "Python 3 (ipykernel)",
   "language": "python",
   "name": "python3"
  },
  "language_info": {
   "codemirror_mode": {
    "name": "ipython",
    "version": 3
   },
   "file_extension": ".py",
   "mimetype": "text/x-python",
   "name": "python",
   "nbconvert_exporter": "python",
   "pygments_lexer": "ipython3",
   "version": "3.11.5"
  }
 },
 "nbformat": 4,
 "nbformat_minor": 5
}
